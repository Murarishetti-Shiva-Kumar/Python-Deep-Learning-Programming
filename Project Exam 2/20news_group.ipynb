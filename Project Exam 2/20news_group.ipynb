{
  "nbformat": 4,
  "nbformat_minor": 0,
  "metadata": {
    "colab": {
      "name": "20news_group.ipynb",
      "provenance": [],
      "collapsed_sections": []
    },
    "kernelspec": {
      "display_name": "Python 3",
      "language": "python",
      "name": "python3"
    },
    "language_info": {
      "codemirror_mode": {
        "name": "ipython",
        "version": 3
      },
      "file_extension": ".py",
      "mimetype": "text/x-python",
      "name": "python",
      "nbconvert_exporter": "python",
      "pygments_lexer": "ipython3",
      "version": "3.7.6"
    }
  },
  "cells": [
    {
      "cell_type": "markdown",
      "metadata": {
        "id": "uQFmdSFbrQhA",
        "colab_type": "text"
      },
      "source": [
        "**2.\tImplement text classification on the 20news_group dataset using LSTM model.**\n",
        "\n",
        "a. Include Embedding layer in the design of your models and report if that leads to a better performance\n",
        "\n",
        "b. Plot loss of the model and report if you see any overfitting problem"
      ]
    },
    {
      "cell_type": "code",
      "metadata": {
        "id": "3du7KZ1urOkw",
        "colab_type": "code",
        "colab": {}
      },
      "source": [
        "#Importing required packages\n",
        "\n",
        "import pandas as pd\n",
        "import numpy as np\n",
        "\n",
        "import matplotlib.pyplot as plt\n",
        "\n",
        "import re\n",
        "\n",
        "from sklearn import preprocessing\n",
        "from sklearn.model_selection import train_test_split #Package for splitting the data\n",
        "from sklearn.preprocessing import LabelEncoder #Package for conversion of categorical to Numerical\n",
        "\n",
        "import keras\n",
        "from keras import layers\n",
        "\n",
        "from keras.preprocessing.text import Tokenizer #Tokenization\n",
        "from keras.preprocessing.sequence import pad_sequences #Add zeros or crop based on the length\n",
        "\n",
        "from keras.utils.np_utils import to_categorical\n",
        "\n",
        "from keras.constraints import maxnorm\n",
        "\n",
        "from keras.models import Sequential #Sequential Neural Network\n",
        "from keras.layers import Embedding, Conv1D, Dropout, MaxPooling1D, Flatten, Dense, LSTM, GlobalMaxPooling1D, SpatialDropout1D #For layers in Neural Network"
      ],
      "execution_count": 2,
      "outputs": []
    },
    {
      "cell_type": "code",
      "metadata": {
        "colab_type": "code",
        "id": "s44_rSsNvsnc",
        "colab": {}
      },
      "source": [
        "from sklearn.datasets import fetch_20newsgroups "
      ],
      "execution_count": 3,
      "outputs": []
    },
    {
      "cell_type": "code",
      "metadata": {
        "colab_type": "code",
        "id": "VI377mHJvsnn",
        "colab": {
          "base_uri": "https://localhost:8080/",
          "height": 51
        },
        "outputId": "8c8a08f0-afc9-411c-87f9-125f65e1c032"
      },
      "source": [
        "cats = ['comp.sys.ibm.pc.hardware', 'comp.sys.mac.hardware'] #Taking 2categories from the 20 available sets \n",
        "data_frame = fetch_20newsgroups(subset='all',shuffle=True, categories=cats)\n",
        "sentences=data_frame.data\n",
        "y=data_frame.target"
      ],
      "execution_count": 4,
      "outputs": [
        {
          "output_type": "stream",
          "text": [
            "Downloading 20news dataset. This may take a few minutes.\n",
            "Downloading dataset from https://ndownloader.figshare.com/files/5975967 (14 MB)\n"
          ],
          "name": "stderr"
        }
      ]
    },
    {
      "cell_type": "code",
      "metadata": {
        "colab_type": "code",
        "id": "5dE3F9N4vsoc",
        "colab": {}
      },
      "source": [
        "max_features = 2000\n",
        "tokenizer = Tokenizer(num_words=max_features, split=' ') #Tokenization on data\n",
        "tokenizer.fit_on_texts(data_frame.data)\n",
        "X = tokenizer.texts_to_sequences(data_frame.data)\n",
        "X = pad_sequences(X) #padding"
      ],
      "execution_count": 5,
      "outputs": []
    },
    {
      "cell_type": "code",
      "metadata": {
        "colab_type": "code",
        "id": "UGcNOsByNCNL",
        "colab": {}
      },
      "source": [
        "labelencoder = LabelEncoder() #Applying Label Encoding on Target\n",
        "integer_encoded = labelencoder.fit_transform(data_frame.target)\n",
        "y = to_categorical(integer_encoded)\n",
        "X_train, X_test, y_train, y_test = train_test_split(X,y, test_size = 0.20, random_state = 42) #Train test split data 80-20%"
      ],
      "execution_count": 6,
      "outputs": []
    },
    {
      "cell_type": "code",
      "metadata": {
        "colab_type": "code",
        "id": "kb43wcBiybF9",
        "colab": {
          "base_uri": "https://localhost:8080/",
          "height": 34
        },
        "outputId": "305469d5-2f50-4187-bbba-46667b917ec5"
      },
      "source": [
        "X_train.shape,X_test.shape,y_train.shape,y_test.shape"
      ],
      "execution_count": 7,
      "outputs": [
        {
          "output_type": "execute_result",
          "data": {
            "text/plain": [
              "((1556, 6819), (389, 6819), (1556, 2), (389, 2))"
            ]
          },
          "metadata": {
            "tags": []
          },
          "execution_count": 7
        }
      ]
    },
    {
      "cell_type": "code",
      "metadata": {
        "colab_type": "code",
        "id": "DaN4p09RLas5",
        "colab": {}
      },
      "source": [
        "embed_dim = 128\n",
        "lstm_out = 196"
      ],
      "execution_count": 8,
      "outputs": []
    },
    {
      "cell_type": "markdown",
      "metadata": {
        "id": "lTIkxrscq5By",
        "colab_type": "text"
      },
      "source": [
        "**a. Include Embedding layer in the design of your models and report if that leads to a better performance**\n"
      ]
    },
    {
      "cell_type": "code",
      "metadata": {
        "colab_type": "code",
        "id": "XHW6df3v2E7F",
        "colab": {}
      },
      "source": [
        "model = Sequential() #Sequential Neural Network\n",
        "model.add(Embedding(max_features, embed_dim,input_length = X.shape[1])) # Embedding layer with 6819 Neurons\n",
        "model.add(LSTM(lstm_out, dropout=0.2, recurrent_dropout=0.2)) #LSTm with 20% Dropout\n",
        "model.add(Dense(2,activation='softmax')) #2 Output Neurons\n",
        "model.compile(loss = 'categorical_crossentropy', optimizer='adam',metrics = ['accuracy']) #Compiling the model"
      ],
      "execution_count": 8,
      "outputs": []
    },
    {
      "cell_type": "code",
      "metadata": {
        "colab_type": "code",
        "id": "TXL3cXk6Li2l",
        "colab": {
          "base_uri": "https://localhost:8080/",
          "height": 258
        },
        "outputId": "8837039f-f1f5-446e-982c-e2f848d5876f"
      },
      "source": [
        "accuracy_val=model.fit(X_train, y_train, validation_data=(X_test, y_test), epochs=5, batch_size=64) #Fitting the model"
      ],
      "execution_count": 9,
      "outputs": [
        {
          "output_type": "stream",
          "text": [
            "/usr/local/lib/python3.6/dist-packages/tensorflow/python/framework/indexed_slices.py:434: UserWarning: Converting sparse IndexedSlices to a dense Tensor of unknown shape. This may consume a large amount of memory.\n",
            "  \"Converting sparse IndexedSlices to a dense Tensor of unknown shape. \"\n"
          ],
          "name": "stderr"
        },
        {
          "output_type": "stream",
          "text": [
            "Train on 1556 samples, validate on 389 samples\n",
            "Epoch 1/5\n",
            "1556/1556 [==============================] - 903s 580ms/step - loss: 0.6850 - accuracy: 0.5662 - val_loss: 0.6655 - val_accuracy: 0.6247\n",
            "Epoch 2/5\n",
            "1556/1556 [==============================] - 909s 584ms/step - loss: 0.5535 - accuracy: 0.7635 - val_loss: 0.5174 - val_accuracy: 0.7378\n",
            "Epoch 3/5\n",
            "1556/1556 [==============================] - 897s 576ms/step - loss: 0.3080 - accuracy: 0.8875 - val_loss: 0.4171 - val_accuracy: 0.8175\n",
            "Epoch 4/5\n",
            "1556/1556 [==============================] - 902s 580ms/step - loss: 0.2057 - accuracy: 0.9261 - val_loss: 0.5476 - val_accuracy: 0.8149\n",
            "Epoch 5/5\n",
            "1556/1556 [==============================] - 904s 581ms/step - loss: 0.1230 - accuracy: 0.9647 - val_loss: 0.5467 - val_accuracy: 0.7635\n"
          ],
          "name": "stdout"
        }
      ]
    },
    {
      "cell_type": "code",
      "metadata": {
        "colab_type": "code",
        "id": "12QwAyNUvso9",
        "colab": {
          "base_uri": "https://localhost:8080/",
          "height": 34
        },
        "outputId": "2a8551f7-027d-498a-e0ae-774c979b7373"
      },
      "source": [
        "print(accuracy_val.history.keys())"
      ],
      "execution_count": 10,
      "outputs": [
        {
          "output_type": "stream",
          "text": [
            "dict_keys(['val_loss', 'val_accuracy', 'loss', 'accuracy'])\n"
          ],
          "name": "stdout"
        }
      ]
    },
    {
      "cell_type": "markdown",
      "metadata": {
        "id": "FuiopbHRqnAS",
        "colab_type": "text"
      },
      "source": [
        "**Plot loss of the model and report if you see any overfitting problem**"
      ]
    },
    {
      "cell_type": "code",
      "metadata": {
        "colab_type": "code",
        "id": "9OA58E4yvspb",
        "colab": {
          "base_uri": "https://localhost:8080/",
          "height": 295
        },
        "outputId": "7d3760c3-3577-46a7-e4e9-78880547a833"
      },
      "source": [
        "#Loss graph from history object\n",
        "plt.plot(accuracy_val.history['loss'])\n",
        "plt.plot(accuracy_val.history['val_loss'])\n",
        "plt.title('Loss Plot')\n",
        "plt.ylabel('Loss')\n",
        "plt.xlabel('Epoch')\n",
        "plt.legend(['train', 'validation'], loc='upper left')\n",
        "plt.show()"
      ],
      "execution_count": 11,
      "outputs": [
        {
          "output_type": "display_data",
          "data": {
            "image/png": "[encoded data removed]",
            "text/plain": [
              "<Figure size 432x288 with 1 Axes>"
            ]
          },
          "metadata": {
            "tags": [],
            "needs_background": "light"
          }
        }
      ]
    },
    {
      "cell_type": "code",
      "metadata": {
        "colab_type": "code",
        "id": "GPgL_2g7vspj",
        "colab": {
          "base_uri": "https://localhost:8080/",
          "height": 295
        },
        "outputId": "58014ceb-dae3-401d-b720-00e96489419e"
      },
      "source": [
        "#Accuracy Loss graph from history object\n",
        "plt.plot(accuracy_val.history['accuracy'])\n",
        "plt.plot(accuracy_val.history['val_accuracy'])\n",
        "plt.plot(accuracy_val.history['loss'])\n",
        "plt.plot(accuracy_val.history['val_loss'])\n",
        "plt.title('Loss Accuracy')\n",
        "plt.ylabel('accuracy')\n",
        "plt.xlabel('epoch')\n",
        "plt.legend(['accuracy', 'validation accuracy','loss','val_loss'], loc='upper right')\n",
        "plt.show()"
      ],
      "execution_count": 12,
      "outputs": [
        {
          "output_type": "display_data",
          "data": {
            "image/png": "[encoded data removed]",
            "text/plain": [
              "<Figure size 432x288 with 1 Axes>"
            ]
          },
          "metadata": {
            "tags": [],
            "needs_background": "light"
          }
        }
      ]
    },
    {
      "cell_type": "markdown",
      "metadata": {
        "id": "k_XBiU1ZqiUm",
        "colab_type": "text"
      },
      "source": [
        "**Handling Overfitting**"
      ]
    },
    {
      "cell_type": "code",
      "metadata": {
        "colab_type": "code",
        "id": "tj0NTv4Hvspp",
        "colab": {
          "base_uri": "https://localhost:8080/",
          "height": 275
        },
        "outputId": "8af93a3f-080b-45c9-fc2f-5c4a59f49179"
      },
      "source": [
        "# Using Early Stopping to handle Overfitting\n",
        "\n",
        "from keras.callbacks import EarlyStopping\n",
        "\n",
        "model = Sequential()\n",
        "model.add(Embedding(max_features, embed_dim,input_length = X.shape[1]))\n",
        "model.add(LSTM(lstm_out, dropout=0.2, recurrent_dropout=0.2))\n",
        "model.add(Dense(2,activation='softmax'))\n",
        "model.compile(loss = 'categorical_crossentropy', optimizer='adam',metrics = ['accuracy'])\n",
        "es = EarlyStopping(monitor='val_loss', mode='min', verbose=1)\n",
        "# In min mode, training will stop when the quantity monitored has stopped decreasing\n",
        "#verbosity mode\n",
        "\n",
        "accuracy_val_early_stop = model.fit(X_train, y_train, epochs=5, batch_size=128, validation_data=(X_test,y_test), callbacks=[es])"
      ],
      "execution_count": 9,
      "outputs": [
        {
          "output_type": "stream",
          "text": [
            "/usr/local/lib/python3.6/dist-packages/tensorflow/python/framework/indexed_slices.py:434: UserWarning: Converting sparse IndexedSlices to a dense Tensor of unknown shape. This may consume a large amount of memory.\n",
            "  \"Converting sparse IndexedSlices to a dense Tensor of unknown shape. \"\n"
          ],
          "name": "stderr"
        },
        {
          "output_type": "stream",
          "text": [
            "Train on 1556 samples, validate on 389 samples\n",
            "Epoch 1/5\n",
            "1556/1556 [==============================] - 579s 372ms/step - loss: 0.6891 - accuracy: 0.5296 - val_loss: 0.6789 - val_accuracy: 0.6118\n",
            "Epoch 2/5\n",
            "1556/1556 [==============================] - 594s 382ms/step - loss: 0.6524 - accuracy: 0.6915 - val_loss: 0.6457 - val_accuracy: 0.6144\n",
            "Epoch 3/5\n",
            "1556/1556 [==============================] - 595s 383ms/step - loss: 0.5633 - accuracy: 0.7461 - val_loss: 0.5695 - val_accuracy: 0.7069\n",
            "Epoch 4/5\n",
            "1556/1556 [==============================] - 593s 381ms/step - loss: 0.3811 - accuracy: 0.8458 - val_loss: 0.4914 - val_accuracy: 0.7969\n",
            "Epoch 5/5\n",
            "1556/1556 [==============================] - 596s 383ms/step - loss: 0.2165 - accuracy: 0.9190 - val_loss: 0.5038 - val_accuracy: 0.7841\n",
            "Epoch 00005: early stopping\n"
          ],
          "name": "stdout"
        }
      ]
    },
    {
      "cell_type": "code",
      "metadata": {
        "id": "HOqnhZrog-Ts",
        "colab_type": "code",
        "colab": {
          "base_uri": "https://localhost:8080/",
          "height": 295
        },
        "outputId": "d4080031-2a9a-4a37-80e1-0bf1b0a4feb8"
      },
      "source": [
        "# Loss graph from history object\n",
        "plt.plot(accuracy_val_early_stop.history['loss'])\n",
        "plt.plot(accuracy_val_early_stop.history['val_loss'])\n",
        "plt.title('Loss Plot')\n",
        "plt.ylabel('Loss')\n",
        "plt.xlabel('Epoch')\n",
        "plt.legend(['train', 'validation'], loc='upper left')\n",
        "plt.show()"
      ],
      "execution_count": 10,
      "outputs": [
        {
          "output_type": "display_data",
          "data": {
            "image/png": "[encoded data removed]",
            "text/plain": [
              "<Figure size 432x288 with 1 Axes>"
            ]
          },
          "metadata": {
            "tags": [],
            "needs_background": "light"
          }
        }
      ]
    },
    {
      "cell_type": "code",
      "metadata": {
        "id": "kHyt4HfLg_e6",
        "colab_type": "code",
        "colab": {
          "base_uri": "https://localhost:8080/",
          "height": 295
        },
        "outputId": "cad04013-4139-4dcd-d3d2-4f589987f4d7"
      },
      "source": [
        "# Accuracy Loss graph from history object\n",
        "plt.plot(accuracy_val_early_stop.history['accuracy'])\n",
        "plt.plot(accuracy_val_early_stop.history['val_accuracy'])\n",
        "plt.plot(accuracy_val_early_stop.history['loss'])\n",
        "plt.plot(accuracy_val_early_stop.history['val_loss'])\n",
        "plt.title('Loss Accuracy')\n",
        "plt.ylabel('accuracy')\n",
        "plt.xlabel('epoch')\n",
        "plt.legend(['accuracy', 'validation accuracy','loss','val_loss'], loc='upper right')\n",
        "plt.show()"
      ],
      "execution_count": 11,
      "outputs": [
        {
          "output_type": "display_data",
          "data": {
            "image/png": "[encoded data removed]",
            "text/plain": [
              "<Figure size 432x288 with 1 Axes>"
            ]
          },
          "metadata": {
            "tags": [],
            "needs_background": "light"
          }
        }
      ]
    },
    {
      "cell_type": "code",
      "metadata": {
        "id": "-TjEHIZH6z_e",
        "colab_type": "code",
        "colab": {}
      },
      "source": [
        ""
      ],
      "execution_count": null,
      "outputs": []
    }
  ]
}