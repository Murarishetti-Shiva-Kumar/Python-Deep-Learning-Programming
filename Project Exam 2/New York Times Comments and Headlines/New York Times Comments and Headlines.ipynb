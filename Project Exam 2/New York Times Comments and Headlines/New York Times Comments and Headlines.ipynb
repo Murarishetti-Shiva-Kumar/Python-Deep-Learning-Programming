{
 "cells": [
  {
   "cell_type": "markdown",
   "metadata": {},
   "source": [
    "### Importing the libraries"
   ]
  },
  {
   "cell_type": "code",
   "execution_count": 19,
   "metadata": {},
   "outputs": [],
   "source": [
    "# keras module for building LSTM \n",
    "from keras.preprocessing.sequence import pad_sequences\n",
    "from keras.layers import Embedding, LSTM, Dense\n",
    "from keras.preprocessing.text import Tokenizer\n",
    "from keras.callbacks import EarlyStopping\n",
    "from keras.models import Sequential\n",
    "import keras.utils as ku \n",
    "\n",
    "# set seeds for reproducability\n",
    "import tensorflow as tf\n",
    "\n",
    "from numpy.random import seed\n",
    "tf.random.set_seed(2)\n",
    "seed(1)\n",
    "\n",
    "import pandas as pd\n",
    "import numpy as np\n",
    "import string, os \n",
    "\n",
    "import warnings\n",
    "warnings.filterwarnings(\"ignore\")\n",
    "warnings.simplefilter(action='ignore', category=FutureWarning)"
   ]
  },
  {
   "cell_type": "markdown",
   "metadata": {},
   "source": [
    "### Load the dataset"
   ]
  },
  {
   "cell_type": "code",
   "execution_count": 20,
   "metadata": {},
   "outputs": [
    {
     "data": {
      "text/plain": [
       "['N.F.L. vs. Politics Has Been Battle All Season Long',\n",
       " 'Voice. Vice. Veracity.',\n",
       " 'A Stand-Up’s Downward Slide',\n",
       " 'New York Today: A Groundhog Has Her Day',\n",
       " 'A Swimmer’s Communion With the Ocean',\n",
       " 'Trail Activity',\n",
       " 'Super Bowl',\n",
       " 'Trump’s Mexican Shakedown',\n",
       " 'Pence’s Presidential Pet',\n",
       " 'Fruit of a Poison Tree']"
      ]
     },
     "execution_count": 20,
     "metadata": {},
     "output_type": "execute_result"
    }
   ],
   "source": [
    "#Load the dataset of news headlines\n",
    "curr_dir = './'\n",
    "all_headlines = []\n",
    "for filename in os.listdir(curr_dir):\n",
    "    if 'Articles' in filename:\n",
    "        article_df = pd.read_csv(curr_dir + filename)\n",
    "        all_headlines.extend(list(article_df.headline.values))\n",
    "        break\n",
    "\n",
    "all_headlines[:10]"
   ]
  },
  {
   "cell_type": "markdown",
   "metadata": {},
   "source": [
    "### Dataset cleaning"
   ]
  },
  {
   "cell_type": "code",
   "execution_count": 21,
   "metadata": {},
   "outputs": [
    {
     "data": {
      "text/plain": [
       "['nfl vs politics has been battle all season long',\n",
       " 'voice vice veracity',\n",
       " 'a standups downward slide',\n",
       " 'new york today a groundhog has her day',\n",
       " 'a swimmers communion with the ocean',\n",
       " 'trail activity',\n",
       " 'super bowl',\n",
       " 'trumps mexican shakedown',\n",
       " 'pences presidential pet',\n",
       " 'fruit of a poison tree']"
      ]
     },
     "execution_count": 21,
     "metadata": {},
     "output_type": "execute_result"
    }
   ],
   "source": [
    "#In dataset preparation step, we will first perform text cleaning of the data which includes removal of punctuations and lower casing all the words.\n",
    "\n",
    "def clean_text(txt):\n",
    "    txt = \"\".join(v for v in txt if v not in string.punctuation).lower()\n",
    "    txt = txt.encode(\"utf8\").decode(\"ascii\",'ignore')\n",
    "    return txt \n",
    "\n",
    "corpus = [clean_text(x) for x in all_headlines]\n",
    "corpus[:10]"
   ]
  },
  {
   "cell_type": "markdown",
   "metadata": {},
   "source": [
    "### Generating Sequence of N-gram Tokens"
   ]
  },
  {
   "cell_type": "code",
   "execution_count": 22,
   "metadata": {},
   "outputs": [
    {
     "data": {
      "text/plain": [
       "[[661, 118],\n",
       " [661, 118, 73],\n",
       " [661, 118, 73, 74],\n",
       " [661, 118, 73, 74, 662],\n",
       " [661, 118, 73, 74, 662, 663],\n",
       " [661, 118, 73, 74, 662, 663, 64],\n",
       " [661, 118, 73, 74, 662, 663, 64, 30],\n",
       " [661, 118, 73, 74, 662, 663, 64, 30, 211],\n",
       " [212, 664],\n",
       " [212, 664, 665]]"
      ]
     },
     "execution_count": 22,
     "metadata": {},
     "output_type": "execute_result"
    }
   ],
   "source": [
    "tokenizer = Tokenizer()\n",
    "\n",
    "def get_sequence_of_tokens(corpus):\n",
    "    ## tokenization\n",
    "    tokenizer.fit_on_texts(corpus)\n",
    "    total_words = len(tokenizer.word_index) + 1\n",
    "    \n",
    "    ## convert data to sequence of tokens \n",
    "    input_sequences = []\n",
    "    for line in corpus:\n",
    "        token_list = tokenizer.texts_to_sequences([line])[0]\n",
    "        for i in range(1, len(token_list)):\n",
    "            n_gram_sequence = token_list[:i+1]\n",
    "            input_sequences.append(n_gram_sequence)\n",
    "    return input_sequences, total_words\n",
    "\n",
    "inp_sequences, total_words = get_sequence_of_tokens(corpus)\n",
    "inp_sequences[:10]"
   ]
  },
  {
   "cell_type": "markdown",
   "metadata": {},
   "source": [
    "### Padding the Sequences and obtain Variables : Predictors and Target"
   ]
  },
  {
   "cell_type": "code",
   "execution_count": 23,
   "metadata": {},
   "outputs": [],
   "source": [
    "def generate_padded_sequences(input_sequences):\n",
    "    max_sequence_len = max([len(x) for x in input_sequences])\n",
    "    input_sequences = np.array(pad_sequences(input_sequences, maxlen=max_sequence_len, padding='pre'))\n",
    "    \n",
    "    predictors, label = input_sequences[:,:-1],input_sequences[:,-1]\n",
    "    label = ku.to_categorical(label, num_classes=total_words)\n",
    "    return predictors, label, max_sequence_len\n",
    "\n",
    "predictors, label, max_sequence_len = generate_padded_sequences(inp_sequences)\n"
   ]
  },
  {
   "cell_type": "markdown",
   "metadata": {},
   "source": [
    "### LSTMs for Text Generation"
   ]
  },
  {
   "cell_type": "code",
   "execution_count": 24,
   "metadata": {},
   "outputs": [
    {
     "name": "stdout",
     "output_type": "stream",
     "text": [
      "Model: \"sequential_1\"\n",
      "_________________________________________________________________\n",
      "Layer (type)                 Output Shape              Param #   \n",
      "=================================================================\n",
      "embedding_1 (Embedding)      (None, 16, 10)            22890     \n",
      "_________________________________________________________________\n",
      "lstm_1 (LSTM)                (None, 100)               44400     \n",
      "_________________________________________________________________\n",
      "dense_1 (Dense)              (None, 2289)              231189    \n",
      "=================================================================\n",
      "Total params: 298,479\n",
      "Trainable params: 298,479\n",
      "Non-trainable params: 0\n",
      "_________________________________________________________________\n"
     ]
    }
   ],
   "source": [
    "def create_model(max_sequence_len, total_words):\n",
    "    input_len = max_sequence_len - 1\n",
    "    model = Sequential()\n",
    "    \n",
    "    # Add Input Embedding Layer\n",
    "    model.add(Embedding(total_words, 10, input_length=input_len))\n",
    "    \n",
    "    # Add Hidden Layer 1 - LSTM Layer\n",
    "    model.add(LSTM(100))\n",
    "    \n",
    "    # Add Output Layer\n",
    "    model.add(Dense(total_words, activation='softmax'))\n",
    "\n",
    "    model.compile(loss='categorical_crossentropy', optimizer='adam')\n",
    "    \n",
    "    return model\n",
    "\n",
    "model = create_model(max_sequence_len, total_words)\n",
    "model.summary()\n"
   ]
  },
  {
   "cell_type": "markdown",
   "metadata": {},
   "source": [
    "### Lets train our model now"
   ]
  },
  {
   "cell_type": "code",
   "execution_count": 25,
   "metadata": {},
   "outputs": [
    {
     "name": "stdout",
     "output_type": "stream",
     "text": [
      "Epoch 1/100\n",
      "142/142 - 1s - loss: 7.3648\n",
      "Epoch 2/100\n",
      "142/142 - 1s - loss: 6.8443\n",
      "Epoch 3/100\n",
      "142/142 - 1s - loss: 6.7230\n",
      "Epoch 4/100\n",
      "142/142 - 1s - loss: 6.6393\n",
      "Epoch 5/100\n",
      "142/142 - 1s - loss: 6.5619\n",
      "Epoch 6/100\n",
      "142/142 - 1s - loss: 6.4707\n",
      "Epoch 7/100\n",
      "142/142 - 1s - loss: 6.3624\n",
      "Epoch 8/100\n",
      "142/142 - 1s - loss: 6.2496\n",
      "Epoch 9/100\n",
      "142/142 - 1s - loss: 6.1420\n",
      "Epoch 10/100\n",
      "142/142 - 1s - loss: 6.0428\n",
      "Epoch 11/100\n",
      "142/142 - 1s - loss: 5.9480\n",
      "Epoch 12/100\n",
      "142/142 - 1s - loss: 5.8557\n",
      "Epoch 13/100\n",
      "142/142 - 1s - loss: 5.7696\n",
      "Epoch 14/100\n",
      "142/142 - 1s - loss: 5.6833\n",
      "Epoch 15/100\n",
      "142/142 - 1s - loss: 5.5977\n",
      "Epoch 16/100\n",
      "142/142 - 1s - loss: 5.5147\n",
      "Epoch 17/100\n",
      "142/142 - 1s - loss: 5.4273\n",
      "Epoch 18/100\n",
      "142/142 - 1s - loss: 5.3422\n",
      "Epoch 19/100\n",
      "142/142 - 1s - loss: 5.2579\n",
      "Epoch 20/100\n",
      "142/142 - 1s - loss: 5.1742\n",
      "Epoch 21/100\n",
      "142/142 - 1s - loss: 5.0928\n",
      "Epoch 22/100\n",
      "142/142 - 1s - loss: 5.0076\n",
      "Epoch 23/100\n",
      "142/142 - 1s - loss: 4.9259\n",
      "Epoch 24/100\n",
      "142/142 - 1s - loss: 4.8447\n",
      "Epoch 25/100\n",
      "142/142 - 1s - loss: 4.7683\n",
      "Epoch 26/100\n",
      "142/142 - 1s - loss: 4.6904\n",
      "Epoch 27/100\n",
      "142/142 - 1s - loss: 4.6125\n",
      "Epoch 28/100\n",
      "142/142 - 1s - loss: 4.5342\n",
      "Epoch 29/100\n",
      "142/142 - 1s - loss: 4.4594\n",
      "Epoch 30/100\n",
      "142/142 - 1s - loss: 4.3858\n",
      "Epoch 31/100\n",
      "142/142 - 1s - loss: 4.3123\n",
      "Epoch 32/100\n",
      "142/142 - 1s - loss: 4.2402\n",
      "Epoch 33/100\n",
      "142/142 - 1s - loss: 4.1709\n",
      "Epoch 34/100\n",
      "142/142 - 1s - loss: 4.0989\n",
      "Epoch 35/100\n",
      "142/142 - 1s - loss: 4.0317\n",
      "Epoch 36/100\n",
      "142/142 - 1s - loss: 3.9651\n",
      "Epoch 37/100\n",
      "142/142 - 1s - loss: 3.8983\n",
      "Epoch 38/100\n",
      "142/142 - 1s - loss: 3.8336\n",
      "Epoch 39/100\n",
      "142/142 - 1s - loss: 3.7709\n",
      "Epoch 40/100\n",
      "142/142 - 1s - loss: 3.7076\n",
      "Epoch 41/100\n",
      "142/142 - 1s - loss: 3.6465\n",
      "Epoch 42/100\n",
      "142/142 - 1s - loss: 3.5874\n",
      "Epoch 43/100\n",
      "142/142 - 1s - loss: 3.5263\n",
      "Epoch 44/100\n",
      "142/142 - 1s - loss: 3.4692\n",
      "Epoch 45/100\n",
      "142/142 - 1s - loss: 3.4112\n",
      "Epoch 46/100\n",
      "142/142 - 1s - loss: 3.3557\n",
      "Epoch 47/100\n",
      "142/142 - 1s - loss: 3.3038\n",
      "Epoch 48/100\n",
      "142/142 - 1s - loss: 3.2511\n",
      "Epoch 49/100\n",
      "142/142 - 1s - loss: 3.1960\n",
      "Epoch 50/100\n",
      "142/142 - 1s - loss: 3.1455\n",
      "Epoch 51/100\n",
      "142/142 - 1s - loss: 3.0960\n",
      "Epoch 52/100\n",
      "142/142 - 1s - loss: 3.0447\n",
      "Epoch 53/100\n",
      "142/142 - 1s - loss: 2.9983\n",
      "Epoch 54/100\n",
      "142/142 - 1s - loss: 2.9519\n",
      "Epoch 55/100\n",
      "142/142 - 1s - loss: 2.9090\n",
      "Epoch 56/100\n",
      "142/142 - 1s - loss: 2.8603\n",
      "Epoch 57/100\n",
      "142/142 - 1s - loss: 2.8162\n",
      "Epoch 58/100\n",
      "142/142 - 1s - loss: 2.7723\n",
      "Epoch 59/100\n",
      "142/142 - 1s - loss: 2.7287\n",
      "Epoch 60/100\n",
      "142/142 - 1s - loss: 2.6894\n",
      "Epoch 61/100\n",
      "142/142 - 1s - loss: 2.6480\n",
      "Epoch 62/100\n",
      "142/142 - 1s - loss: 2.6087\n",
      "Epoch 63/100\n",
      "142/142 - 1s - loss: 2.5691\n",
      "Epoch 64/100\n",
      "142/142 - 1s - loss: 2.5310\n",
      "Epoch 65/100\n",
      "142/142 - 1s - loss: 2.4956\n",
      "Epoch 66/100\n",
      "142/142 - 1s - loss: 2.4551\n",
      "Epoch 67/100\n",
      "142/142 - 1s - loss: 2.4201\n",
      "Epoch 68/100\n",
      "142/142 - 1s - loss: 2.3824\n",
      "Epoch 69/100\n",
      "142/142 - 1s - loss: 2.3484\n",
      "Epoch 70/100\n",
      "142/142 - 1s - loss: 2.3146\n",
      "Epoch 71/100\n",
      "142/142 - 1s - loss: 2.2799\n",
      "Epoch 72/100\n",
      "142/142 - 1s - loss: 2.2474\n",
      "Epoch 73/100\n",
      "142/142 - 1s - loss: 2.2131\n",
      "Epoch 74/100\n",
      "142/142 - 1s - loss: 2.1818\n",
      "Epoch 75/100\n",
      "142/142 - 1s - loss: 2.1496\n",
      "Epoch 76/100\n",
      "142/142 - 1s - loss: 2.1193\n",
      "Epoch 77/100\n",
      "142/142 - 1s - loss: 2.0895\n",
      "Epoch 78/100\n",
      "142/142 - 1s - loss: 2.0568\n",
      "Epoch 79/100\n",
      "142/142 - 1s - loss: 2.0282\n",
      "Epoch 80/100\n",
      "142/142 - 1s - loss: 1.9979\n",
      "Epoch 81/100\n",
      "142/142 - 1s - loss: 1.9692\n",
      "Epoch 82/100\n",
      "142/142 - 1s - loss: 1.9386\n",
      "Epoch 83/100\n",
      "142/142 - 1s - loss: 1.9120\n",
      "Epoch 84/100\n",
      "142/142 - 2s - loss: 1.8845\n",
      "Epoch 85/100\n",
      "142/142 - 2s - loss: 1.8560\n",
      "Epoch 86/100\n",
      "142/142 - 1s - loss: 1.8306\n",
      "Epoch 87/100\n",
      "142/142 - 1s - loss: 1.8022\n",
      "Epoch 88/100\n",
      "142/142 - 1s - loss: 1.7770\n",
      "Epoch 89/100\n",
      "142/142 - 1s - loss: 1.7515\n",
      "Epoch 90/100\n",
      "142/142 - 1s - loss: 1.7256\n",
      "Epoch 91/100\n",
      "142/142 - 1s - loss: 1.6993\n",
      "Epoch 92/100\n",
      "142/142 - 1s - loss: 1.6737\n",
      "Epoch 93/100\n",
      "142/142 - 1s - loss: 1.6514\n",
      "Epoch 94/100\n",
      "142/142 - 1s - loss: 1.6249\n",
      "Epoch 95/100\n",
      "142/142 - 1s - loss: 1.5989\n",
      "Epoch 96/100\n",
      "142/142 - 1s - loss: 1.5765\n",
      "Epoch 97/100\n",
      "142/142 - 1s - loss: 1.5534\n",
      "Epoch 98/100\n",
      "142/142 - 1s - loss: 1.5298\n",
      "Epoch 99/100\n",
      "142/142 - 1s - loss: 1.5053\n",
      "Epoch 100/100\n",
      "142/142 - 2s - loss: 1.4828\n"
     ]
    },
    {
     "data": {
      "text/plain": [
       "<tensorflow.python.keras.callbacks.History at 0x1e16fb50bc8>"
      ]
     },
     "execution_count": 25,
     "metadata": {},
     "output_type": "execute_result"
    }
   ],
   "source": [
    "model.fit(predictors, label, epochs=100, verbose=2)"
   ]
  },
  {
   "cell_type": "markdown",
   "metadata": {},
   "source": [
    "### Generating the text"
   ]
  },
  {
   "cell_type": "code",
   "execution_count": 26,
   "metadata": {},
   "outputs": [],
   "source": [
    "def generate_text(seed_text, next_words, model, max_sequence_len):\n",
    "    for _ in range(next_words):\n",
    "        token_list = tokenizer.texts_to_sequences([seed_text])[0]\n",
    "        token_list = pad_sequences([token_list], maxlen=max_sequence_len-1, padding='pre')\n",
    "        predicted = model.predict_classes(token_list, verbose=0)\n",
    "        \n",
    "        output_word = \"\"\n",
    "        for word,index in tokenizer.word_index.items():\n",
    "            if index == predicted:\n",
    "                output_word = word\n",
    "                break\n",
    "        seed_text += \" \"+output_word\n",
    "    return seed_text.title()"
   ]
  },
  {
   "cell_type": "markdown",
   "metadata": {},
   "source": [
    "### Results"
   ]
  },
  {
   "cell_type": "code",
   "execution_count": 27,
   "metadata": {},
   "outputs": [
    {
     "name": "stdout",
     "output_type": "stream",
     "text": [
      "United States More Know Obamacare And Affordable\n",
      "President Trump Save A Tail Snobs\n",
      "Donald Trump Middleschool President Turns A\n"
     ]
    }
   ],
   "source": [
    "print (generate_text(\"united states\", 5, model, max_sequence_len))\n",
    "print (generate_text(\"president trump\", 4, model, max_sequence_len))\n",
    "print (generate_text(\"donald trump\", 4, model, max_sequence_len))"
   ]
  },
  {
   "cell_type": "code",
   "execution_count": null,
   "metadata": {},
   "outputs": [],
   "source": []
  }
 ],
 "metadata": {
  "kernelspec": {
   "display_name": "Python 3",
   "language": "python",
   "name": "python3"
  },
  "language_info": {
   "codemirror_mode": {
    "name": "ipython",
    "version": 3
   },
   "file_extension": ".py",
   "mimetype": "text/x-python",
   "name": "python",
   "nbconvert_exporter": "python",
   "pygments_lexer": "ipython3",
   "version": "3.7.6"
  }
 },
 "nbformat": 4,
 "nbformat_minor": 4
}
