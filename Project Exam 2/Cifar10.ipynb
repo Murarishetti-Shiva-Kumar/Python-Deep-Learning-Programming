{
  "nbformat": 4,
  "nbformat_minor": 0,
  "metadata": {
    "colab": {
      "name": "Cifar10.ipynb",
      "provenance": [],
      "collapsed_sections": []
    },
    "kernelspec": {
      "name": "python3",
      "display_name": "Python 3"
    }
  },
  "cells": [
    {
      "cell_type": "markdown",
      "metadata": {
        "id": "VWF3sOBpRPwT",
        "colab_type": "text"
      },
      "source": [
        "Apply Autoencoder on the Cifar_10 dataset and then pass the result of Autoencoder to CNN or LSTM or three layers model to classify data\n",
        "\n",
        "a.\tRepeat the same thing with PCA (apply PCA on the dataset and then pass the result to CNN or LSTM or three layers model)\n",
        "\n",
        "b.\tCompare the result of both approach\n"
      ]
    },
    {
      "cell_type": "markdown",
      "metadata": {
        "id": "HV-72jxmRXns",
        "colab_type": "text"
      },
      "source": [
        "**AutoEncoder+CNN**"
      ]
    },
    {
      "cell_type": "code",
      "metadata": {
        "id": "oeBVNKbkZd5a",
        "colab_type": "code",
        "colab": {
          "base_uri": "https://localhost:8080/",
          "height": 34
        },
        "outputId": "6dc3aadb-0077-4f86-f0a9-d17efa60cea2"
      },
      "source": [
        "import numpy as np\n",
        "import pandas as pd\n",
        "\n",
        "import matplotlib.pyplot as plt\n",
        "\n",
        "from time import time\n",
        "from random import randint\n",
        "\n",
        "from sklearn.decomposition import PCA\n",
        "from sklearn.preprocessing import StandardScaler\n",
        "\n",
        "import tensorflow as tf\n",
        "from tensorflow import keras\n",
        "from tensorflow.keras import datasets, layers, models\n",
        "from tensorflow.keras.models import load_model\n",
        "\n",
        "from keras import regularizers\n",
        "from keras import backend as K\n",
        "\n",
        "from keras.datasets import cifar10\n",
        "from keras.utils import np_utils\n",
        "from keras.constraints import maxnorm\n",
        "from keras.layers import Dense, Input\n",
        "from keras.layers import Dropout\n",
        "from keras.layers import Flatten\n",
        "from keras.optimizers import SGD\n",
        "from keras.models import Model\n",
        "from keras.callbacks import TensorBoard"
      ],
      "execution_count": 1,
      "outputs": [
        {
          "output_type": "stream",
          "text": [
            "Using TensorFlow backend.\n"
          ],
          "name": "stderr"
        }
      ]
    },
    {
      "cell_type": "code",
      "metadata": {
        "id": "Oui44Ztdbr4I",
        "colab_type": "code",
        "colab": {}
      },
      "source": [
        "(x_train, y_train), (x_test, y_test) = cifar10.load_data() # loading data into dataframe"
      ],
      "execution_count": 2,
      "outputs": []
    },
    {
      "cell_type": "code",
      "metadata": {
        "id": "w7I6lr3Eb1x2",
        "colab_type": "code",
        "colab": {}
      },
      "source": [
        "x_train = x_train.reshape(50000,3,32,32).transpose(0,2,3,1).astype(\"uint8\") #uint8-data type contains all whole numbers from 0 to 255\n",
        "x_test = x_test.reshape(10000,3,32,32).transpose(0,2,3,1).astype(\"uint8\") #uint8-data type contains all whole numbers from 0 to 255"
      ],
      "execution_count": 3,
      "outputs": []
    },
    {
      "cell_type": "code",
      "metadata": {
        "id": "jtsqmvfFb4Z-",
        "colab_type": "code",
        "colab": {
          "base_uri": "https://localhost:8080/",
          "height": 51
        },
        "outputId": "86e4c352-5b40-449d-a46a-7bc3a83be71b"
      },
      "source": [
        "x_train = x_train.astype('uint8') / 255. # Scaling inputs from 0-255 to 0.0-1.0\n",
        "x_test = x_test.astype('uint8') / 255. # Scaling inputs from 0-255 to 0.0-1.0\n",
        "x_train = x_train.reshape((len(x_train), np.prod(x_train.shape[1:]))) #flatten 32x32 images into vectors of size 3072\n",
        "x_test = x_test.reshape((len(x_test), np.prod(x_test.shape[1:]))) #flatten 32x32 images into vectors of size 3072\n",
        "print(x_train.shape)\n",
        "print(x_test.shape)"
      ],
      "execution_count": 4,
      "outputs": [
        {
          "output_type": "stream",
          "text": [
            "(50000, 3072)\n",
            "(10000, 3072)\n"
          ],
          "name": "stdout"
        }
      ]
    },
    {
      "cell_type": "code",
      "metadata": {
        "id": "XEHVKZQScCYl",
        "colab_type": "code",
        "colab": {
          "base_uri": "https://localhost:8080/",
          "height": 34
        },
        "outputId": "0c04f5ce-4bb7-4b7b-cd45-e2e63103805f"
      },
      "source": [
        "# one hot encoding on target labels\n",
        "y_train = np_utils.to_categorical(y_train)\n",
        "y_test = np_utils.to_categorical(y_test)\n",
        "num_classes = y_test.shape[1]\n",
        "num_classes"
      ],
      "execution_count": 5,
      "outputs": [
        {
          "output_type": "execute_result",
          "data": {
            "text/plain": [
              "10"
            ]
          },
          "metadata": {
            "tags": []
          },
          "execution_count": 5
        }
      ]
    },
    {
      "cell_type": "code",
      "metadata": {
        "id": "NQnmtWKwa1N9",
        "colab_type": "code",
        "colab": {}
      },
      "source": [
        "j = randint(0,10000)\n",
        "\n",
        "# Single fully-connected neural layer as encoder and decoder\n",
        "\n",
        "encoding_dim = 128  # 128 floats -> compression of 24 for each Neuron, as the input shape is 3072\n",
        "input_img = Input(shape=(3072,)) #Input shape is 3072 from X_train.shape, X_test.shape\n",
        "encoded = Dense(encoding_dim, activation='relu')(input_img) # 128 Neurons for encoded representations\n",
        "decoded = Dense(3072, activation='sigmoid')(encoded) #Output & Input Neurons should be same as Mirror image\n",
        "autoencoder = Model(input_img, decoded) #maps an input to its reconstruction\n",
        "encoder = Model(input_img, encoded) #maps an input to its encoded representation\n",
        "\n",
        "# Decoder Model\n",
        "encoded_input = Input(shape=(encoding_dim,)) # create a placeholder for an encoded (32-dimensional) input\n",
        "decoder_layer = autoencoder.layers[-1] # retrieve the last layer of the autoencoder model\n",
        "decoder = Model(encoded_input, decoder_layer(encoded_input)) # create the decoder model\n",
        "\n",
        "autoencoder.compile(optimizer='adadelta', loss='binary_crossentropy', metrics=['accuracy']) # Autoencoder model configuration"
      ],
      "execution_count": 6,
      "outputs": []
    },
    {
      "cell_type": "code",
      "metadata": {
        "id": "5HRiAUX7cOkb",
        "colab_type": "code",
        "colab": {
          "base_uri": "https://localhost:8080/",
          "height": 136
        },
        "outputId": "33690d30-1a77-4357-b0c3-7021c420edd5"
      },
      "source": [
        "tensorboard = TensorBoard(log_dir='2', histogram_freq=0, write_graph=True, write_images=False)\n",
        "history = autoencoder.fit(x_train, x_train, epochs=3, batch_size=256, shuffle=True, validation_data=(x_test, x_test), callbacks=[tensorboard])"
      ],
      "execution_count": 7,
      "outputs": [
        {
          "output_type": "stream",
          "text": [
            "Train on 50000 samples, validate on 10000 samples\n",
            "Epoch 1/3\n",
            "50000/50000 [==============================] - 14s 270us/step - loss: 0.6927 - accuracy: 0.0066 - val_loss: 0.6915 - val_accuracy: 0.0072\n",
            "Epoch 2/3\n",
            "50000/50000 [==============================] - 14s 282us/step - loss: 0.6875 - accuracy: 0.0082 - val_loss: 0.6819 - val_accuracy: 0.0091\n",
            "Epoch 3/3\n",
            "50000/50000 [==============================] - 14s 270us/step - loss: 0.6768 - accuracy: 0.0094 - val_loss: 0.6718 - val_accuracy: 0.0097\n"
          ],
          "name": "stdout"
        }
      ]
    },
    {
      "cell_type": "code",
      "metadata": {
        "id": "GEpseAFycSNH",
        "colab_type": "code",
        "colab": {}
      },
      "source": [
        "# reconstructed inputs and encoded representations\n",
        "\n",
        "# encode and decode on test data\n",
        "encoded_imgs = encoder.predict(x_test)\n",
        "decoded_imgs = decoder.predict(encoded_imgs)"
      ],
      "execution_count": 8,
      "outputs": []
    },
    {
      "cell_type": "markdown",
      "metadata": {
        "id": "xD_diJN1hpAk",
        "colab_type": "text"
      },
      "source": [
        "**Autoencoder output for CNN**"
      ]
    },
    {
      "cell_type": "code",
      "metadata": {
        "id": "-y5dVQ7hhTZd",
        "colab_type": "code",
        "colab": {}
      },
      "source": [
        "x_train2 = x_train\n",
        "\n",
        "for i in range(0, 50000):\n",
        "  prediction = autoencoder.predict(x_train[i].reshape(1,3072))\n",
        "  x_train2[i] = prediction"
      ],
      "execution_count": 9,
      "outputs": []
    },
    {
      "cell_type": "code",
      "metadata": {
        "id": "VtF9fnEphvlR",
        "colab_type": "code",
        "colab": {}
      },
      "source": [
        "x_test2 = x_test.copy()\n",
        "\n",
        "for i in range(0, 10000):\n",
        "  prediction = autoencoder.predict(x_test[i].reshape(1,3072))\n",
        "  x_test2[i] = prediction"
      ],
      "execution_count": 10,
      "outputs": []
    },
    {
      "cell_type": "code",
      "metadata": {
        "id": "CgojnuAJhye1",
        "colab_type": "code",
        "colab": {
          "base_uri": "https://localhost:8080/",
          "height": 34
        },
        "outputId": "c9d3ae4b-281a-4e78-f159-535621d7e877"
      },
      "source": [
        "# Change input shape from (,3072) to (,32,32,3)\n",
        "\n",
        "x_train2 = np.array(x_train2).reshape([-1, 32, 32, 3]) \n",
        "x_train2.shape\n",
        "\n",
        "x_test2 = np.array(x_test2).reshape([-1, 32, 32, 3]) \n",
        "x_test2.shape"
      ],
      "execution_count": 11,
      "outputs": [
        {
          "output_type": "execute_result",
          "data": {
            "text/plain": [
              "(10000, 32, 32, 3)"
            ]
          },
          "metadata": {
            "tags": []
          },
          "execution_count": 11
        }
      ]
    },
    {
      "cell_type": "code",
      "metadata": {
        "id": "fL1v_qn3iKk0",
        "colab_type": "code",
        "colab": {
          "base_uri": "https://localhost:8080/",
          "height": 266
        },
        "outputId": "ed9c8541-df36-4efc-a266-e2fe73c41143"
      },
      "source": [
        "# result of autoencoder on a random image from test dataset\n",
        "\n",
        "# original Image\n",
        "plt.imshow(x_test[j].reshape(32,32,3))\n",
        "plt.show()"
      ],
      "execution_count": 12,
      "outputs": [
        {
          "output_type": "display_data",
          "data": {
            "image/png": "[encoded data removed]",
            "text/plain": [
              "<Figure size 432x288 with 1 Axes>"
            ]
          },
          "metadata": {
            "tags": [],
            "needs_background": "light"
          }
        }
      ]
    },
    {
      "cell_type": "code",
      "metadata": {
        "id": "H5I9vNA-iVqH",
        "colab_type": "code",
        "colab": {
          "base_uri": "https://localhost:8080/",
          "height": 266
        },
        "outputId": "b2727e51-cf60-4cc8-e41b-da334b34f841"
      },
      "source": [
        "# reconstruction Image\n",
        "plt.imshow(x_test2[j].reshape(32,32,3))\n",
        "plt.show()"
      ],
      "execution_count": 13,
      "outputs": [
        {
          "output_type": "display_data",
          "data": {
            "image/png": "[encoded data removed]",
            "text/plain": [
              "<Figure size 432x288 with 1 Axes>"
            ]
          },
          "metadata": {
            "tags": [],
            "needs_background": "light"
          }
        }
      ]
    },
    {
      "cell_type": "code",
      "metadata": {
        "id": "2nKvNzmAiacZ",
        "colab_type": "code",
        "colab": {
          "base_uri": "https://localhost:8080/",
          "height": 295
        },
        "outputId": "6df496a5-d188-4f8e-df0b-9a5b9148fccb"
      },
      "source": [
        "#history graph for accuracy\n",
        "plt.plot(history.history['accuracy'])\n",
        "plt.plot(history.history['val_accuracy'])\n",
        "plt.title('model accuracy')\n",
        "plt.ylabel('accuracy')\n",
        "plt.xlabel('epoch')\n",
        "plt.legend(['train', 'test'], loc='upper left')\n",
        "plt.show()"
      ],
      "execution_count": 14,
      "outputs": [
        {
          "output_type": "display_data",
          "data": {
            "image/png": "[encoded data removed]",
            "text/plain": [
              "<Figure size 432x288 with 1 Axes>"
            ]
          },
          "metadata": {
            "tags": [],
            "needs_background": "light"
          }
        }
      ]
    },
    {
      "cell_type": "code",
      "metadata": {
        "id": "E4yXfXKajlm8",
        "colab_type": "code",
        "colab": {
          "base_uri": "https://localhost:8080/",
          "height": 295
        },
        "outputId": "4d866353-ef62-48fa-e0ac-9d51afa89132"
      },
      "source": [
        "# history graph for loss\n",
        "plt.plot(history.history['loss'])\n",
        "plt.plot(history.history['val_loss'])\n",
        "plt.title('model loss')\n",
        "plt.ylabel('loss')\n",
        "plt.xlabel('epoch')\n",
        "plt.legend(['train', 'test'], loc='upper left')\n",
        "plt.show()"
      ],
      "execution_count": 15,
      "outputs": [
        {
          "output_type": "display_data",
          "data": {
            "image/png": "[encoded data removed]",
            "text/plain": [
              "<Figure size 432x288 with 1 Axes>"
            ]
          },
          "metadata": {
            "tags": [],
            "needs_background": "light"
          }
        }
      ]
    },
    {
      "cell_type": "markdown",
      "metadata": {
        "id": "hEiOW70rjsBh",
        "colab_type": "text"
      },
      "source": [
        "**Applying CNN on AutoEncoded Data**"
      ]
    },
    {
      "cell_type": "code",
      "metadata": {
        "id": "EeBHF-ymjpZH",
        "colab_type": "code",
        "colab": {
          "base_uri": "https://localhost:8080/",
          "height": 425
        },
        "outputId": "37beae98-f20a-40f3-ef94-6b7b403bcaae"
      },
      "source": [
        "model = models.Sequential() #Sequential Neural Network\n",
        "model.add(layers.Conv2D(32, (3, 3), padding='same', activation='relu', input_shape=(32,32,3), kernel_constraint=maxnorm(3))) #2D convolutinal model\n",
        "model.add(layers.Dropout(0.2)) #Dropout 20%\n",
        "model.add(layers.Conv2D(32, (3, 3), activation='relu', padding='same', kernel_constraint=maxnorm(3)))\n",
        "model.add(layers.MaxPooling2D(pool_size=(2, 2))) #Max pool of size (2*2)\n",
        "model.add(layers.Flatten())\n",
        "model.add(layers.Dense(512, activation='relu', kernel_constraint=maxnorm(3)))\n",
        "model.add(layers.Dropout(0.5)) #drop out of 50%\n",
        "model.add(layers.Dense(num_classes, activation='softmax')) #10 Output Neurons\n",
        "model.summary()"
      ],
      "execution_count": 16,
      "outputs": [
        {
          "output_type": "stream",
          "text": [
            "Model: \"sequential\"\n",
            "_________________________________________________________________\n",
            "Layer (type)                 Output Shape              Param #   \n",
            "=================================================================\n",
            "conv2d (Conv2D)              (None, 32, 32, 32)        896       \n",
            "_________________________________________________________________\n",
            "dropout (Dropout)            (None, 32, 32, 32)        0         \n",
            "_________________________________________________________________\n",
            "conv2d_1 (Conv2D)            (None, 32, 32, 32)        9248      \n",
            "_________________________________________________________________\n",
            "max_pooling2d (MaxPooling2D) (None, 16, 16, 32)        0         \n",
            "_________________________________________________________________\n",
            "flatten (Flatten)            (None, 8192)              0         \n",
            "_________________________________________________________________\n",
            "dense (Dense)                (None, 512)               4194816   \n",
            "_________________________________________________________________\n",
            "dropout_1 (Dropout)          (None, 512)               0         \n",
            "_________________________________________________________________\n",
            "dense_1 (Dense)              (None, 10)                5130      \n",
            "=================================================================\n",
            "Total params: 4,210,090\n",
            "Trainable params: 4,210,090\n",
            "Non-trainable params: 0\n",
            "_________________________________________________________________\n"
          ],
          "name": "stdout"
        }
      ]
    },
    {
      "cell_type": "code",
      "metadata": {
        "id": "xAN6aRGZj0gH",
        "colab_type": "code",
        "colab": {}
      },
      "source": [
        "epochs = 5\n",
        "lrate = 0.01\n",
        "decay = lrate/epochs\n",
        "sgd = keras.optimizers.SGD(lr=lrate, momentum=0.9, decay=decay, nesterov=False)\n",
        "model.compile(loss='categorical_crossentropy', optimizer=sgd, metrics=['accuracy']) # Compiling model"
      ],
      "execution_count": 17,
      "outputs": []
    },
    {
      "cell_type": "code",
      "metadata": {
        "id": "NCyvKkrsj1jL",
        "colab_type": "code",
        "colab": {
          "base_uri": "https://localhost:8080/",
          "height": 187
        },
        "outputId": "d8047af3-78c0-4812-d654-9209fe31fd95"
      },
      "source": [
        "historynew = model.fit(x_train2, y_train, validation_data=(x_test2, y_test), epochs=epochs, batch_size=32) # Fitting the model"
      ],
      "execution_count": 18,
      "outputs": [
        {
          "output_type": "stream",
          "text": [
            "Epoch 1/5\n",
            "1563/1563 [==============================] - 230s 147ms/step - loss: 2.2102 - accuracy: 0.1629 - val_loss: 2.1869 - val_accuracy: 0.1797\n",
            "Epoch 2/5\n",
            "1563/1563 [==============================] - 237s 151ms/step - loss: 2.1742 - accuracy: 0.1853 - val_loss: 2.1617 - val_accuracy: 0.1991\n",
            "Epoch 3/5\n",
            "1563/1563 [==============================] - 232s 148ms/step - loss: 2.1565 - accuracy: 0.1976 - val_loss: 2.1424 - val_accuracy: 0.2198\n",
            "Epoch 4/5\n",
            "1563/1563 [==============================] - 231s 148ms/step - loss: 2.1413 - accuracy: 0.2067 - val_loss: 2.1327 - val_accuracy: 0.2224\n",
            "Epoch 5/5\n",
            "1563/1563 [==============================] - 232s 149ms/step - loss: 2.1261 - accuracy: 0.2162 - val_loss: 2.1099 - val_accuracy: 0.2298\n"
          ],
          "name": "stdout"
        }
      ]
    },
    {
      "cell_type": "code",
      "metadata": {
        "id": "SH-w9kd5j4yP",
        "colab_type": "code",
        "colab": {
          "base_uri": "https://localhost:8080/",
          "height": 34
        },
        "outputId": "66cb4a68-c397-4bbf-d73c-271da37f0af3"
      },
      "source": [
        "# Accuracy score\n",
        "scores = model.evaluate(x_test2, y_test, verbose=0)\n",
        "print(\"Accuracy: %.2f%%\" % (scores[1]*100))"
      ],
      "execution_count": 19,
      "outputs": [
        {
          "output_type": "stream",
          "text": [
            "Accuracy: 22.98%\n"
          ],
          "name": "stdout"
        }
      ]
    },
    {
      "cell_type": "markdown",
      "metadata": {
        "id": "piTkTCsEffjk",
        "colab_type": "text"
      },
      "source": [
        "**a.\tRepeat the same thing with PCA (apply PCA on the dataset and then pass the result to CNN or LSTM or three layers model)**"
      ]
    },
    {
      "cell_type": "markdown",
      "metadata": {
        "id": "8CaN2cqBhhLr",
        "colab_type": "text"
      },
      "source": [
        "**PCA+CNN**"
      ]
    },
    {
      "cell_type": "code",
      "metadata": {
        "id": "e-Bvsh2qNzQC",
        "colab_type": "code",
        "colab": {
          "base_uri": "https://localhost:8080/",
          "height": 51
        },
        "outputId": "c8b3f07d-65e4-49c9-da34-e9f86f819d41"
      },
      "source": [
        "x_train = x_train.reshape(-1, 3072)\n",
        "x_test = x_test.reshape(-1, 3072)\n",
        "print(x_train.shape)\n",
        "print(x_test.shape)"
      ],
      "execution_count": 20,
      "outputs": [
        {
          "output_type": "stream",
          "text": [
            "(50000, 3072)\n",
            "(10000, 3072)\n"
          ],
          "name": "stdout"
        }
      ]
    },
    {
      "cell_type": "code",
      "metadata": {
        "id": "C--CqUXrQiU5",
        "colab_type": "code",
        "colab": {}
      },
      "source": [
        "# Apply standard scaler to data\n",
        "standardscaler = StandardScaler()"
      ],
      "execution_count": 21,
      "outputs": []
    },
    {
      "cell_type": "code",
      "metadata": {
        "id": "tLGwkoS6QqfC",
        "colab_type": "code",
        "colab": {
          "base_uri": "https://localhost:8080/",
          "height": 34
        },
        "outputId": "827d7cc3-f2fd-4b04-d59f-04fcf11d0a48"
      },
      "source": [
        "#PCA\n",
        "\n",
        "pca = PCA()\n",
        "pca.fit(x_train)\n",
        "pca.n_components_\n",
        "pca.explained_variance_\n",
        "pca.explained_variance_.shape"
      ],
      "execution_count": 22,
      "outputs": [
        {
          "output_type": "execute_result",
          "data": {
            "text/plain": [
              "(3072,)"
            ]
          },
          "metadata": {
            "tags": []
          },
          "execution_count": 22
        }
      ]
    },
    {
      "cell_type": "code",
      "metadata": {
        "id": "XQa5zDlrQ_rT",
        "colab_type": "code",
        "colab": {}
      },
      "source": [
        "x_train_pca = pca.transform(x_train)\n",
        "x_test_pca = pca.transform(x_test)"
      ],
      "execution_count": 23,
      "outputs": []
    },
    {
      "cell_type": "code",
      "metadata": {
        "id": "KUcnBnUZRAnz",
        "colab_type": "code",
        "colab": {
          "base_uri": "https://localhost:8080/",
          "height": 51
        },
        "outputId": "7ee0cb3c-75e9-4369-cd30-e11736529bcd"
      },
      "source": [
        "x_train_pca = x_train_pca.reshape(-1, 32,32,3)\n",
        "x_test_pca = x_test_pca.reshape(-1, 32,32,3)\n",
        "print(x_train_pca.shape)\n",
        "print(x_test_pca.shape)"
      ],
      "execution_count": 24,
      "outputs": [
        {
          "output_type": "stream",
          "text": [
            "(50000, 32, 32, 3)\n",
            "(10000, 32, 32, 3)\n"
          ],
          "name": "stdout"
        }
      ]
    },
    {
      "cell_type": "code",
      "metadata": {
        "id": "7PO2W7-oRJ-6",
        "colab_type": "code",
        "colab": {
          "base_uri": "https://localhost:8080/",
          "height": 425
        },
        "outputId": "05ec9ae3-8a74-4b63-a423-2ae1d7eac5a3"
      },
      "source": [
        "model1 = models.Sequential() #Sequential Neural Network\n",
        "model1.add(layers.Conv2D(32, (3, 3), padding='same', activation='relu', input_shape=(32,32,3), kernel_constraint=maxnorm(3))) #2D convolutinal model\n",
        "model1.add(layers.Dropout(0.2)) #Dropout 20%\n",
        "model1.add(layers.Conv2D(32, (3, 3), activation='relu', padding='same', kernel_constraint=maxnorm(3)))\n",
        "model1.add(layers.MaxPooling2D(pool_size=(2, 2)))\n",
        "model1.add(layers.Flatten())\n",
        "model1.add(layers.Dense(512, activation='relu', kernel_constraint=maxnorm(3)))\n",
        "model1.add(layers.Dropout(0.5)) #Dropout 50%\n",
        "model1.add(layers.Dense(num_classes, activation='softmax'))  #10 Output Neurons\n",
        "model1.summary()"
      ],
      "execution_count": 25,
      "outputs": [
        {
          "output_type": "stream",
          "text": [
            "Model: \"sequential_1\"\n",
            "_________________________________________________________________\n",
            "Layer (type)                 Output Shape              Param #   \n",
            "=================================================================\n",
            "conv2d_2 (Conv2D)            (None, 32, 32, 32)        896       \n",
            "_________________________________________________________________\n",
            "dropout_2 (Dropout)          (None, 32, 32, 32)        0         \n",
            "_________________________________________________________________\n",
            "conv2d_3 (Conv2D)            (None, 32, 32, 32)        9248      \n",
            "_________________________________________________________________\n",
            "max_pooling2d_1 (MaxPooling2 (None, 16, 16, 32)        0         \n",
            "_________________________________________________________________\n",
            "flatten_1 (Flatten)          (None, 8192)              0         \n",
            "_________________________________________________________________\n",
            "dense_2 (Dense)              (None, 512)               4194816   \n",
            "_________________________________________________________________\n",
            "dropout_3 (Dropout)          (None, 512)               0         \n",
            "_________________________________________________________________\n",
            "dense_3 (Dense)              (None, 10)                5130      \n",
            "=================================================================\n",
            "Total params: 4,210,090\n",
            "Trainable params: 4,210,090\n",
            "Non-trainable params: 0\n",
            "_________________________________________________________________\n"
          ],
          "name": "stdout"
        }
      ]
    },
    {
      "cell_type": "code",
      "metadata": {
        "id": "tJSmbAxLRQoq",
        "colab_type": "code",
        "colab": {}
      },
      "source": [
        "epochs = 3\n",
        "lrate = 0.01\n",
        "decay = lrate/epochs\n",
        "sgd = keras.optimizers.SGD(lr=lrate, momentum=0.9, decay=decay, nesterov=False)\n",
        "model1.compile(loss='categorical_crossentropy', optimizer=sgd, metrics=['accuracy']) #Compiling Model"
      ],
      "execution_count": 26,
      "outputs": []
    },
    {
      "cell_type": "code",
      "metadata": {
        "id": "7ISUvAmXRVGA",
        "colab_type": "code",
        "colab": {
          "base_uri": "https://localhost:8080/",
          "height": 119
        },
        "outputId": "5f69d54f-f5e3-42ab-fafe-cf3d62053ce4"
      },
      "source": [
        "history1 = model1.fit(x_train_pca, y_train, validation_data=(x_test_pca, y_test), epochs=epochs, batch_size=32) #Fitting The model"
      ],
      "execution_count": 27,
      "outputs": [
        {
          "output_type": "stream",
          "text": [
            "Epoch 1/3\n",
            "1563/1563 [==============================] - 231s 148ms/step - loss: 2.1719 - accuracy: 0.1856 - val_loss: 2.1581 - val_accuracy: 0.1990\n",
            "Epoch 2/3\n",
            "1563/1563 [==============================] - 231s 148ms/step - loss: 2.1056 - accuracy: 0.2200 - val_loss: 2.2075 - val_accuracy: 0.2225\n",
            "Epoch 3/3\n",
            "1563/1563 [==============================] - 232s 149ms/step - loss: 2.0647 - accuracy: 0.2398 - val_loss: 2.2763 - val_accuracy: 0.2252\n"
          ],
          "name": "stdout"
        }
      ]
    },
    {
      "cell_type": "code",
      "metadata": {
        "id": "nngrTOm8Rkxd",
        "colab_type": "code",
        "colab": {
          "base_uri": "https://localhost:8080/",
          "height": 34
        },
        "outputId": "081b6460-3361-43b1-fd3d-1f4add4dcf33"
      },
      "source": [
        "# Accuracy score\n",
        "scores = model1.evaluate(x_test_pca, y_test, verbose=0)\n",
        "print(\"Accuracy: %.2f%%\" % (scores[1]*100))"
      ],
      "execution_count": 28,
      "outputs": [
        {
          "output_type": "stream",
          "text": [
            "Accuracy: 22.52%\n"
          ],
          "name": "stdout"
        }
      ]
    },
    {
      "cell_type": "markdown",
      "metadata": {
        "id": "6ZodhNYbfQt5",
        "colab_type": "text"
      },
      "source": [
        "**b.\tCompare the result of both approach**"
      ]
    },
    {
      "cell_type": "code",
      "metadata": {
        "id": "9A4q6Y8re7bI",
        "colab_type": "code",
        "colab": {
          "base_uri": "https://localhost:8080/",
          "height": 51
        },
        "outputId": "33c1e0c1-cfb3-4dab-e97b-cffcde0ece0a"
      },
      "source": [
        "scores = model.evaluate(x_test2, y_test, verbose=0)\n",
        "print(\"Accuracy for AutoEncoding + CNN: %.2f%%\" % (scores[1]*100))\n",
        "\n",
        "scores = model1.evaluate(x_test_pca, y_test, verbose=0)\n",
        "print(\"Accuracy for PCA + CNN: %.2f%%\" % (scores[1]*100))"
      ],
      "execution_count": 29,
      "outputs": [
        {
          "output_type": "stream",
          "text": [
            "Accuracy for AutoEncoding + CNN: 22.98%\n",
            "Accuracy for PCA + CNN: 22.52%\n"
          ],
          "name": "stdout"
        }
      ]
    }
  ]
}