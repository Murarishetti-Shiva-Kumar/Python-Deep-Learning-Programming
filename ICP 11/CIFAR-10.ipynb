{
  "nbformat": 4,
  "nbformat_minor": 0,
  "metadata": {
    "colab": {
      "name": "CIFAR-10.ipynb",
      "provenance": []
    },
    "kernelspec": {
      "name": "python3",
      "display_name": "Python 3"
    }
  },
  "cells": [
    {
      "cell_type": "code",
      "metadata": {
        "id": "jyHfkoLSgmiH",
        "colab_type": "code",
        "colab": {
          "base_uri": "https://localhost:8080/",
          "height": 34
        },
        "outputId": "6d08f9b1-7621-43ea-c4ea-4ab5a0a386de"
      },
      "source": [
        "# Simple CNN model for CIFAR-10\n",
        "import numpy\n",
        "import pandas\n",
        "\n",
        "import matplotlib.pyplot as plt\n",
        "\n",
        "import keras\n",
        "from keras.datasets import cifar10\n",
        "from keras.models import Sequential\n",
        "from keras.layers import Dense\n",
        "from keras.layers import Dropout\n",
        "from keras.layers import Flatten\n",
        "from keras.constraints import maxnorm\n",
        "from keras.optimizers import SGD\n",
        "from keras.layers.convolutional import Conv2D\n",
        "from keras.layers.convolutional import MaxPooling2D\n",
        "from keras.utils import np_utils\n",
        "\n",
        "from keras import backend as K\n",
        "K.common.set_image_dim_ordering('th')"
      ],
      "execution_count": 1,
      "outputs": [
        {
          "output_type": "stream",
          "text": [
            "Using TensorFlow backend.\n"
          ],
          "name": "stderr"
        }
      ]
    },
    {
      "cell_type": "code",
      "metadata": {
        "id": "dtxmpKGWgsM5",
        "colab_type": "code",
        "colab": {}
      },
      "source": [
        "# fix random seed for reproducibility\n",
        "seed = 7\n",
        "numpy.random.seed(seed)"
      ],
      "execution_count": 2,
      "outputs": []
    },
    {
      "cell_type": "code",
      "metadata": {
        "id": "8KioDNtwhR_L",
        "colab_type": "code",
        "colab": {}
      },
      "source": [
        "# load data\n",
        "(X_train, y_train), (X_test, y_test) = cifar10.load_data()"
      ],
      "execution_count": 3,
      "outputs": []
    },
    {
      "cell_type": "code",
      "metadata": {
        "id": "yWIWYX9UhTkd",
        "colab_type": "code",
        "colab": {}
      },
      "source": [
        "# normalize inputs from 0-255 to 0.0-1.0\n",
        "X_train = X_train.astype('float32')\n",
        "X_test = X_test.astype('float32')\n",
        "X_train = X_train / 255.0\n",
        "X_test = X_test / 255.0"
      ],
      "execution_count": 4,
      "outputs": []
    },
    {
      "cell_type": "code",
      "metadata": {
        "id": "H9DMsCBNhXuZ",
        "colab_type": "code",
        "colab": {}
      },
      "source": [
        "# one hot encoding\n",
        "y_train = np_utils.to_categorical(y_train)\n",
        "y_test = np_utils.to_categorical(y_test)\n",
        "num_classes = y_test.shape[1]"
      ],
      "execution_count": 5,
      "outputs": []
    },
    {
      "cell_type": "code",
      "metadata": {
        "id": "A8p_i8mlqoJ4",
        "colab_type": "code",
        "colab": {
          "base_uri": "https://localhost:8080/",
          "height": 34
        },
        "outputId": "240883b4-1d9c-40ac-e778-39a5aa347ad5"
      },
      "source": [
        "num_classes"
      ],
      "execution_count": 6,
      "outputs": [
        {
          "output_type": "execute_result",
          "data": {
            "text/plain": [
              "10"
            ]
          },
          "metadata": {
            "tags": []
          },
          "execution_count": 6
        }
      ]
    },
    {
      "cell_type": "code",
      "metadata": {
        "id": "cVRF0ec6hl5z",
        "colab_type": "code",
        "colab": {}
      },
      "source": [
        "# Create the model\n",
        "model = Sequential() #Sequential Neural Network\n",
        "model.add(Conv2D(32, (3, 3), input_shape=(32, 32, 3), padding='same', activation='relu', kernel_constraint=maxnorm(3))) #Convolutional input layer, 32 feature maps with a size of 3×3 and a rectifier activation function\n",
        "model.add(Dropout(0.2)) #Dropout layer at 20%\n",
        "model.add(Conv2D(32, (3, 3), activation='relu', padding='same', kernel_constraint=maxnorm(3))) #Convolutional layer, 32 feature maps with a size of 3×3 and a rectifier activation function\n",
        "model.add(MaxPooling2D(pool_size=(2, 2))) #Max Pool layer with size 2×2\n",
        "model.add(Flatten()) #Flatten layer\n",
        "model.add(Dense(512, activation='relu', kernel_constraint=maxnorm(3))) #Fully connected layer with 512 units and a rectifier activation function\n",
        "model.add(Dropout(0.5)) #Dropout layer at 50%\n",
        "model.add(Dense(num_classes, activation='softmax')) #Fully connected output layer with 10 units and a Softmax activation function, here num_classes value is 10"
      ],
      "execution_count": 7,
      "outputs": []
    },
    {
      "cell_type": "code",
      "metadata": {
        "id": "uCBTKFRQhrus",
        "colab_type": "code",
        "colab": {
          "base_uri": "https://localhost:8080/",
          "height": 442
        },
        "outputId": "126ea2e2-d39f-4802-be9b-f1ced7a93f2c"
      },
      "source": [
        "# Compile model\n",
        "epochs = 3\n",
        "lrate = 0.01\n",
        "decay = lrate/epochs\n",
        "sgd = SGD(lr=lrate, momentum=0.9, decay=decay, nesterov=False)\n",
        "model.compile(loss='categorical_crossentropy', optimizer=sgd, metrics=['accuracy']) #Compiling the Model\n",
        "print(model.summary())"
      ],
      "execution_count": 8,
      "outputs": [
        {
          "output_type": "stream",
          "text": [
            "Model: \"sequential_1\"\n",
            "_________________________________________________________________\n",
            "Layer (type)                 Output Shape              Param #   \n",
            "=================================================================\n",
            "conv2d_1 (Conv2D)            (None, 32, 32, 32)        896       \n",
            "_________________________________________________________________\n",
            "dropout_1 (Dropout)          (None, 32, 32, 32)        0         \n",
            "_________________________________________________________________\n",
            "conv2d_2 (Conv2D)            (None, 32, 32, 32)        9248      \n",
            "_________________________________________________________________\n",
            "max_pooling2d_1 (MaxPooling2 (None, 16, 16, 32)        0         \n",
            "_________________________________________________________________\n",
            "flatten_1 (Flatten)          (None, 8192)              0         \n",
            "_________________________________________________________________\n",
            "dense_1 (Dense)              (None, 512)               4194816   \n",
            "_________________________________________________________________\n",
            "dropout_2 (Dropout)          (None, 512)               0         \n",
            "_________________________________________________________________\n",
            "dense_2 (Dense)              (None, 10)                5130      \n",
            "=================================================================\n",
            "Total params: 4,210,090\n",
            "Trainable params: 4,210,090\n",
            "Non-trainable params: 0\n",
            "_________________________________________________________________\n",
            "None\n"
          ],
          "name": "stdout"
        }
      ]
    },
    {
      "cell_type": "code",
      "metadata": {
        "id": "YqVcVxYXhuob",
        "colab_type": "code",
        "colab": {
          "base_uri": "https://localhost:8080/",
          "height": 136
        },
        "outputId": "96fd03e2-f7ed-42f4-809f-b320fb456c25"
      },
      "source": [
        "# Fit the model\n",
        "history=model.fit(X_train, y_train, validation_data=(X_test, y_test), epochs=epochs, batch_size=32)"
      ],
      "execution_count": 9,
      "outputs": [
        {
          "output_type": "stream",
          "text": [
            "Train on 50000 samples, validate on 10000 samples\n",
            "Epoch 1/3\n",
            "50000/50000 [==============================] - 225s 4ms/step - loss: 1.7476 - accuracy: 0.3708 - val_loss: 1.4524 - val_accuracy: 0.4803\n",
            "Epoch 2/3\n",
            "50000/50000 [==============================] - 222s 4ms/step - loss: 1.4523 - accuracy: 0.4809 - val_loss: 1.3609 - val_accuracy: 0.5222\n",
            "Epoch 3/3\n",
            "50000/50000 [==============================] - 224s 4ms/step - loss: 1.3682 - accuracy: 0.5115 - val_loss: 1.2987 - val_accuracy: 0.5421\n"
          ],
          "name": "stdout"
        }
      ]
    },
    {
      "cell_type": "code",
      "metadata": {
        "id": "gRVi-mCRhwuy",
        "colab_type": "code",
        "colab": {
          "base_uri": "https://localhost:8080/",
          "height": 34
        },
        "outputId": "1dde62bf-e237-456d-85ed-7d2ade62d900"
      },
      "source": [
        "# Final evaluation of the model\n",
        "scores = model.evaluate(X_test, y_test, verbose=0)\n",
        "print(\"Accuracy Before adding layers: %.2f%%\" % (scores[1]*100))#Accuracy & loss evaluation"
      ],
      "execution_count": 10,
      "outputs": [
        {
          "output_type": "stream",
          "text": [
            "Accuracy Before adding layers: 54.21%\n"
          ],
          "name": "stdout"
        }
      ]
    },
    {
      "cell_type": "code",
      "metadata": {
        "id": "GKD71o_Ui3GP",
        "colab_type": "code",
        "colab": {}
      },
      "source": [
        "model.save('./model' + '.h5') #Saving the model to .h5"
      ],
      "execution_count": 11,
      "outputs": []
    },
    {
      "cell_type": "markdown",
      "metadata": {
        "id": "obE3wj7jufGm",
        "colab_type": "text"
      },
      "source": [
        "# 1. Follow the instruction below and then report how the performance changed.(apply all at once)\n",
        "•\tConvolutional input layer, 32 feature maps with a size of 3×3 and a rectifier activation function.\n",
        "\n",
        "•\tDropout layer at 20%.\n",
        "\n",
        "•\tConvolutional layer, 32 feature maps with a size of 3×3 and a rectifier activation function.\n",
        "\n",
        "•\tMax Pool layer with size 2×2.\n",
        "\n",
        "•\tConvolutional layer, 64 feature maps with a size of 3×3 and a rectifier activation function.\n",
        "\n",
        "•\tDropout layer at 20%.\n",
        "\n",
        "•\tConvolutional layer, 64 feature maps with a size of 3×3 and a rectifier activation function.\n",
        "\n",
        "•\tMax Pool layer with size 2×2.\n",
        "\n",
        "•\tConvolutional layer, 128 feature maps with a size of 3×3 and a rectifier activation function.\n",
        "\n",
        "•\tDropout layer at 20%.\n",
        "\n",
        "•\tConvolutional layer,128 feature maps with a size of 3×3 and a rectifier activation function.\n",
        "\n",
        "•\tMax Pool layer with size 2×2.\n",
        "\n",
        "•\tFlatten layer.\n",
        "\n",
        "•\tDropout layer at 20%.\n",
        "\n",
        "•\tFully connected layer with 1024 units and a rectifier activation function.\n",
        "\n",
        "•\tDropout layer at 20%.\n",
        "\n",
        "•\tFully connected layer with 512 units and a rectifier activation function.\n",
        "\n",
        "•\tDropout layer at 20%.\n",
        "\n",
        "•\tFully connected output layer with 10 units and a Softmax activation function"
      ]
    },
    {
      "cell_type": "code",
      "metadata": {
        "id": "34Srhni0o7kT",
        "colab_type": "code",
        "colab": {}
      },
      "source": [
        "# Create the model\n",
        "model1 = Sequential() #Sequential Neural Network\n",
        "model1.add(Conv2D(32, (3, 3), input_shape=(32, 32, 3), padding='same', activation='relu', kernel_constraint=maxnorm(3))) #Convolutional input layer, 32 feature maps with a size of 3×3 and a rectifier activation function\n",
        "model1.add(Dropout(0.2)) #Dropout layer at 20%\n",
        "model1.add(Conv2D(32, (3, 3), activation='relu', padding='same', kernel_constraint=maxnorm(3))) #Convolutional layer, 32 feature maps with a size of 3×3 and a rectifier activation function\n",
        "model1.add(MaxPooling2D(pool_size=(2, 2))) #Max Pool layer with size 2×2\n",
        "model1.add(Conv2D(64, (3, 3), input_shape=(32, 32, 3), padding='same', activation='relu', kernel_constraint=maxnorm(3))) #Convolutional layer, 64 feature maps with a size of 3×3 and a rectifier activation function\n",
        "model1.add(Dropout(0.2)) #Dropout layer at 20%\n",
        "model1.add(Conv2D(64, (3, 3), activation='relu', padding='same', kernel_constraint=maxnorm(3))) #Convolutional layer, 64 feature maps with a size of 3×3 and a rectifier activation function\n",
        "model1.add(MaxPooling2D(pool_size=(2, 2))) #Max Pool layer with size 2×2\n",
        "model1.add(Conv2D(128, (3, 3), input_shape=(32, 32, 3), padding='same', activation='relu', kernel_constraint=maxnorm(3))) #Convolutional layer, 128 feature maps with a size of 3×3 and a rectifier activation function\n",
        "model1.add(Dropout(0.2)) #Dropout layer at 20%\n",
        "model1.add(Conv2D(128, (3, 3), activation='relu', padding='same', kernel_constraint=maxnorm(3))) #Convolutional layer,128 feature maps with a size of 3×3 and a rectifier activation function\n",
        "model1.add(MaxPooling2D(pool_size=(2, 2))) #Max Pool layer with size 2×2\n",
        "model1.add(Flatten()) #Flatten layer\n",
        "model1.add(Dropout(0.2)) #Dropout layer at 20%\n",
        "model1.add(Dense(1024, activation='relu', kernel_constraint=maxnorm(3))) #Fully connected layer with 1024 units and a rectifier activation function\n",
        "model1.add(Dropout(0.2)) #Dropout layer at 20%\n",
        "model1.add(Dense(512, activation='relu', kernel_constraint=maxnorm(3))) #Fully connected layer with 512 units and a rectifier activation function\n",
        "model1.add(Dropout(0.2)) #Dropout layer at 20%\n",
        "model1.add(Dense(num_classes, activation='softmax')) #Fully connected output layer with 10 units and a Softmax activation function"
      ],
      "execution_count": 12,
      "outputs": []
    },
    {
      "cell_type": "code",
      "metadata": {
        "id": "hIMf-rflAweG",
        "colab_type": "code",
        "colab": {
          "base_uri": "https://localhost:8080/",
          "height": 816
        },
        "outputId": "0b2d1255-e848-4cc7-96fd-8a877476f249"
      },
      "source": [
        "# Compile model\n",
        "epochs = 3\n",
        "lrate = 0.01\n",
        "decay = lrate/epochs\n",
        "sgd = SGD(lr=lrate, momentum=0.9, decay=decay, nesterov=False)\n",
        "model1.compile(loss='categorical_crossentropy', optimizer=sgd, metrics=['accuracy']) #Compiling\n",
        "print(model1.summary())"
      ],
      "execution_count": 13,
      "outputs": [
        {
          "output_type": "stream",
          "text": [
            "Model: \"sequential_2\"\n",
            "_________________________________________________________________\n",
            "Layer (type)                 Output Shape              Param #   \n",
            "=================================================================\n",
            "conv2d_3 (Conv2D)            (None, 32, 32, 32)        896       \n",
            "_________________________________________________________________\n",
            "dropout_3 (Dropout)          (None, 32, 32, 32)        0         \n",
            "_________________________________________________________________\n",
            "conv2d_4 (Conv2D)            (None, 32, 32, 32)        9248      \n",
            "_________________________________________________________________\n",
            "max_pooling2d_2 (MaxPooling2 (None, 16, 16, 32)        0         \n",
            "_________________________________________________________________\n",
            "conv2d_5 (Conv2D)            (None, 16, 16, 64)        18496     \n",
            "_________________________________________________________________\n",
            "dropout_4 (Dropout)          (None, 16, 16, 64)        0         \n",
            "_________________________________________________________________\n",
            "conv2d_6 (Conv2D)            (None, 16, 16, 64)        36928     \n",
            "_________________________________________________________________\n",
            "max_pooling2d_3 (MaxPooling2 (None, 8, 8, 64)          0         \n",
            "_________________________________________________________________\n",
            "conv2d_7 (Conv2D)            (None, 8, 8, 128)         73856     \n",
            "_________________________________________________________________\n",
            "dropout_5 (Dropout)          (None, 8, 8, 128)         0         \n",
            "_________________________________________________________________\n",
            "conv2d_8 (Conv2D)            (None, 8, 8, 128)         147584    \n",
            "_________________________________________________________________\n",
            "max_pooling2d_4 (MaxPooling2 (None, 4, 4, 128)         0         \n",
            "_________________________________________________________________\n",
            "flatten_2 (Flatten)          (None, 2048)              0         \n",
            "_________________________________________________________________\n",
            "dropout_6 (Dropout)          (None, 2048)              0         \n",
            "_________________________________________________________________\n",
            "dense_3 (Dense)              (None, 1024)              2098176   \n",
            "_________________________________________________________________\n",
            "dropout_7 (Dropout)          (None, 1024)              0         \n",
            "_________________________________________________________________\n",
            "dense_4 (Dense)              (None, 512)               524800    \n",
            "_________________________________________________________________\n",
            "dropout_8 (Dropout)          (None, 512)               0         \n",
            "_________________________________________________________________\n",
            "dense_5 (Dense)              (None, 10)                5130      \n",
            "=================================================================\n",
            "Total params: 2,915,114\n",
            "Trainable params: 2,915,114\n",
            "Non-trainable params: 0\n",
            "_________________________________________________________________\n",
            "None\n"
          ],
          "name": "stdout"
        }
      ]
    },
    {
      "cell_type": "code",
      "metadata": {
        "id": "V5yjZ58bA1Pd",
        "colab_type": "code",
        "colab": {
          "base_uri": "https://localhost:8080/",
          "height": 136
        },
        "outputId": "799ef697-d189-46e7-f9b2-59d70f450791"
      },
      "source": [
        "# Fit the model\n",
        "history1=model1.fit(X_train, y_train, validation_data=(X_test, y_test), epochs=epochs, batch_size=32)"
      ],
      "execution_count": 14,
      "outputs": [
        {
          "output_type": "stream",
          "text": [
            "Train on 50000 samples, validate on 10000 samples\n",
            "Epoch 1/3\n",
            "50000/50000 [==============================] - 478s 10ms/step - loss: 1.9290 - accuracy: 0.2884 - val_loss: 1.6641 - val_accuracy: 0.3999\n",
            "Epoch 2/3\n",
            "50000/50000 [==============================] - 479s 10ms/step - loss: 1.5804 - accuracy: 0.4191 - val_loss: 1.4882 - val_accuracy: 0.4604\n",
            "Epoch 3/3\n",
            "50000/50000 [==============================] - 485s 10ms/step - loss: 1.4547 - accuracy: 0.4684 - val_loss: 1.3855 - val_accuracy: 0.5047\n"
          ],
          "name": "stdout"
        }
      ]
    },
    {
      "cell_type": "code",
      "metadata": {
        "id": "g0R9qQV8A6Qv",
        "colab_type": "code",
        "colab": {
          "base_uri": "https://localhost:8080/",
          "height": 34
        },
        "outputId": "13882c7a-19b3-4ace-8798-d909a75589e1"
      },
      "source": [
        "# Final evaluation of the model\n",
        "scores1 = model1.evaluate(X_test, y_test, verbose=0)\n",
        "print(\"Accuracy: %.2f%%\" % (scores1[1]*100))"
      ],
      "execution_count": 15,
      "outputs": [
        {
          "output_type": "stream",
          "text": [
            "Accuracy: 50.47%\n"
          ],
          "name": "stdout"
        }
      ]
    },
    {
      "cell_type": "markdown",
      "metadata": {
        "id": "4RvxdVJZBiGV",
        "colab_type": "text"
      },
      "source": [
        "# Did the performance change?"
      ]
    },
    {
      "cell_type": "code",
      "metadata": {
        "id": "YtX2njXBBlag",
        "colab_type": "code",
        "colab": {
          "base_uri": "https://localhost:8080/",
          "height": 51
        },
        "outputId": "8a97ef2f-851a-46ec-c288-34caa250c614"
      },
      "source": [
        "print(\"Accuracy Before adding layers: %.2f%%\" % (scores[1]*100))\n",
        "print(\"Accuracy after adding layers: %.2f%%\" % (scores1[1]*100))"
      ],
      "execution_count": 16,
      "outputs": [
        {
          "output_type": "stream",
          "text": [
            "Accuracy Before adding layers: 54.21%\n",
            "Accuracy after adding layers: 50.47%\n"
          ],
          "name": "stdout"
        }
      ]
    },
    {
      "cell_type": "markdown",
      "metadata": {
        "id": "RcXS0UxACCpu",
        "colab_type": "text"
      },
      "source": [
        "# 2. predict the first 4 image of the test data. Then, print the actual label for those 4 images (label means the probability associated with them) to check if the model predicted correctly or not"
      ]
    },
    {
      "cell_type": "code",
      "metadata": {
        "id": "-O-7YSULoY4l",
        "colab_type": "code",
        "colab": {
          "base_uri": "https://localhost:8080/",
          "height": 119
        },
        "outputId": "d9020864-2e2c-46d6-dbf4-a119ec44335c"
      },
      "source": [
        "import pandas as pd\n",
        "prediction = pd.DataFrame()\n",
        "imageid = []\n",
        "for i in range(len(X_test[0:4])):\n",
        "    i = i + 1\n",
        "    imageid.append(i)\n",
        "prediction[\"ImageId\"] = imageid\n",
        "prediction[\"Label\"] = model.predict_classes(X_test[0:4], verbose=0)\n",
        "print(prediction.head())\n",
        "\n",
        "import numpy as np\n",
        "a  = np.array(y_test[0:4])\n",
        "print('Actual labels for four images: {0}'.format(np.argmax(a, axis=1)))"
      ],
      "execution_count": 17,
      "outputs": [
        {
          "output_type": "stream",
          "text": [
            "   ImageId  Label\n",
            "0        1      3\n",
            "1        2      1\n",
            "2        3      8\n",
            "3        4      8\n",
            "Actual labels for four images: [3 8 8 0]\n"
          ],
          "name": "stdout"
        }
      ]
    },
    {
      "cell_type": "markdown",
      "metadata": {
        "id": "ZESyEuDlqhfT",
        "colab_type": "text"
      },
      "source": [
        "# Visualize Loss and Accuracy using the history object"
      ]
    },
    {
      "cell_type": "code",
      "metadata": {
        "id": "7PwSMYfTqksd",
        "colab_type": "code",
        "colab": {
          "base_uri": "https://localhost:8080/",
          "height": 295
        },
        "outputId": "ce091de7-2748-4966-f2a2-44170ec9b5d8"
      },
      "source": [
        "plt.plot(history.history['accuracy'])\n",
        "plt.plot(history.history['val_accuracy'])\n",
        "plt.plot(history.history['loss'])\n",
        "plt.plot(history.history['val_loss'])\n",
        "plt.title('model accuracy')\n",
        "plt.ylabel('accuracy')\n",
        "plt.xlabel('epoch')\n",
        "plt.legend(['accuracy', 'validation accuracy','loss','validation loss'], loc='upper left')\n",
        "plt.show()"
      ],
      "execution_count": 18,
      "outputs": [
        {
          "output_type": "display_data",
          "data": {
            "image/png": "[encoded data removed]",
            "text/plain": [
              "<Figure size 432x288 with 1 Axes>"
            ]
          },
          "metadata": {
            "tags": [],
            "needs_background": "light"
          }
        }
      ]
    },
    {
      "cell_type": "markdown",
      "metadata": {
        "id": "5l4o-v0UrcKZ",
        "colab_type": "text"
      },
      "source": [
        "# Bonus Question\n",
        "Program the question 2 using the saved model (.h5 model)\n"
      ]
    },
    {
      "cell_type": "code",
      "metadata": {
        "id": "6NjVCdsdreVF",
        "colab_type": "code",
        "colab": {
          "base_uri": "https://localhost:8080/",
          "height": 119
        },
        "outputId": "17f30bd3-da17-427c-91d2-07ede78564da"
      },
      "source": [
        "loaded_model = keras.models.load_model('./model.h5')\n",
        "import pandas as pd\n",
        "prediction = pd.DataFrame()\n",
        "imageid = []\n",
        "for i in range(len(X_test[0:4])):\n",
        "    i = i + 1\n",
        "    imageid.append(i)\n",
        "prediction[\"ImageId\"] = imageid\n",
        "prediction[\"Label\"] = loaded_model.predict_classes(X_test[0:4], verbose=0)\n",
        "print(prediction.head())\n",
        "\n",
        "import numpy as np\n",
        "a  = np.array(y_test[0:4])\n",
        "print('Actual labels for first four images: {0}'.format(np.argmax(a, axis=1)))"
      ],
      "execution_count": 19,
      "outputs": [
        {
          "output_type": "stream",
          "text": [
            "   ImageId  Label\n",
            "0        1      3\n",
            "1        2      1\n",
            "2        3      8\n",
            "3        4      8\n",
            "Actual labels for first four images: [3 8 8 0]\n"
          ],
          "name": "stdout"
        }
      ]
    },
    {
      "cell_type": "code",
      "metadata": {
        "id": "ITmJ4cEQ2_cB",
        "colab_type": "code",
        "colab": {}
      },
      "source": [
        ""
      ],
      "execution_count": 19,
      "outputs": []
    }
  ]
}