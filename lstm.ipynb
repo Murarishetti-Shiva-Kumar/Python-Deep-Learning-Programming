{
  "nbformat": 4,
  "nbformat_minor": 0,
  "metadata": {
    "colab": {
      "name": "lstm.ipynb",
      "provenance": [],
      "collapsed_sections": []
    },
    "kernelspec": {
      "display_name": "Python 3",
      "language": "python",
      "name": "python3"
    },
    "language_info": {
      "codemirror_mode": {
        "name": "ipython",
        "version": 3
      },
      "file_extension": ".py",
      "mimetype": "text/x-python",
      "name": "python",
      "nbconvert_exporter": "python",
      "pygments_lexer": "ipython3",
      "version": "3.7.6"
    }
  },
  "cells": [
    {
      "cell_type": "code",
      "metadata": {
        "colab_type": "code",
        "id": "Nu5VCN7wvsnM",
        "colab": {
          "base_uri": "https://localhost:8080/",
          "height": 34
        },
        "outputId": "dc7682bb-2b00-445a-e3f2-0617b4619d80"
      },
      "source": [
        "from keras.models import Sequential\n",
        "from keras import layers\n",
        "from keras.preprocessing.text import Tokenizer\n",
        "import pandas as pd\n",
        "import keras\n",
        "from sklearn import preprocessing\n",
        "from keras.layers import Dense, Embedding, LSTM, SpatialDropout1D,Input"
      ],
      "execution_count": 1,
      "outputs": [
        {
          "output_type": "stream",
          "text": [
            "Using TensorFlow backend.\n"
          ],
          "name": "stderr"
        }
      ]
    },
    {
      "cell_type": "code",
      "metadata": {
        "colab_type": "code",
        "id": "s44_rSsNvsnc",
        "colab": {}
      },
      "source": [
        "from sklearn.datasets import fetch_20newsgroups"
      ],
      "execution_count": 2,
      "outputs": []
    },
    {
      "cell_type": "code",
      "metadata": {
        "colab_type": "code",
        "id": "VI377mHJvsnn",
        "colab": {}
      },
      "source": [
        "cats = ['comp.sys.ibm.pc.hardware', 'comp.sys.mac.hardware']\n",
        "data_frame = fetch_20newsgroups(subset='all',shuffle=True, categories=cats)\n",
        "sentences=data_frame.data\n",
        "y=data_frame.target"
      ],
      "execution_count": 3,
      "outputs": []
    },
    {
      "cell_type": "code",
      "metadata": {
        "colab_type": "code",
        "id": "3TP7EYKhvsn0",
        "colab": {}
      },
      "source": [
        "from sklearn import preprocessing"
      ],
      "execution_count": 4,
      "outputs": []
    },
    {
      "cell_type": "code",
      "metadata": {
        "colab_type": "code",
        "id": "r6l1NmpJvsoR",
        "colab": {}
      },
      "source": [
        "from sklearn.model_selection import train_test_split\n",
        "from keras.preprocessing.sequence import pad_sequences"
      ],
      "execution_count": 5,
      "outputs": []
    },
    {
      "cell_type": "code",
      "metadata": {
        "colab_type": "code",
        "id": "5dE3F9N4vsoc",
        "colab": {}
      },
      "source": [
        "max_features = 2000\n",
        "tokenizer = Tokenizer(num_words=max_features, split=' ')\n",
        "tokenizer.fit_on_texts(data_frame.data)\n",
        "X = tokenizer.texts_to_sequences(data_frame.data)\n",
        "X = pad_sequences(X)"
      ],
      "execution_count": 6,
      "outputs": []
    },
    {
      "cell_type": "code",
      "metadata": {
        "colab_type": "code",
        "id": "UGcNOsByNCNL",
        "colab": {}
      },
      "source": [
        "from keras.utils.np_utils import to_categorical\n",
        "from sklearn.preprocessing import LabelEncoder\n",
        "\n",
        "labelencoder = LabelEncoder()\n",
        "integer_encoded = labelencoder.fit_transform(data_frame.target)\n",
        "y = to_categorical(integer_encoded)\n",
        "X_train, X_test, y_train, y_test = train_test_split(X,y, test_size = 0.20, random_state = 42)"
      ],
      "execution_count": 7,
      "outputs": []
    },
    {
      "cell_type": "code",
      "metadata": {
        "colab_type": "code",
        "id": "kb43wcBiybF9",
        "colab": {
          "base_uri": "https://localhost:8080/",
          "height": 34
        },
        "outputId": "6c1eda8a-65f6-48cb-f6f0-d7dac176db87"
      },
      "source": [
        "X_train.shape,X_test.shape,y_train.shape,y_test.shape"
      ],
      "execution_count": 8,
      "outputs": [
        {
          "output_type": "execute_result",
          "data": {
            "text/plain": [
              "((1556, 6819), (389, 6819), (1556, 2), (389, 2))"
            ]
          },
          "metadata": {
            "tags": []
          },
          "execution_count": 8
        }
      ]
    },
    {
      "cell_type": "code",
      "metadata": {
        "colab_type": "code",
        "id": "DaN4p09RLas5",
        "colab": {}
      },
      "source": [
        "embed_dim = 128\n",
        "lstm_out = 196"
      ],
      "execution_count": 9,
      "outputs": []
    },
    {
      "cell_type": "code",
      "metadata": {
        "colab_type": "code",
        "id": "XHW6df3v2E7F",
        "colab": {}
      },
      "source": [
        "model = Sequential()\n",
        "model.add(Embedding(max_features, embed_dim,input_length = X.shape[1]))\n",
        "model.add(LSTM(lstm_out, dropout=0.2, recurrent_dropout=0.2))\n",
        "model.add(Dense(2,activation='softmax'))\n",
        "model.compile(loss = 'categorical_crossentropy', optimizer='adam',metrics = ['accuracy'])"
      ],
      "execution_count": 10,
      "outputs": []
    },
    {
      "cell_type": "code",
      "metadata": {
        "colab_type": "code",
        "id": "TXL3cXk6Li2l",
        "colab": {
          "base_uri": "https://localhost:8080/",
          "height": 258
        },
        "outputId": "031056e1-cc11-4602-f8ca-794842a8196c"
      },
      "source": [
        "accuracy_val=model.fit(X_train, y_train, validation_data=(X_test, y_test), epochs=5, batch_size=64) "
      ],
      "execution_count": 11,
      "outputs": [
        {
          "output_type": "stream",
          "text": [
            "/usr/local/lib/python3.6/dist-packages/tensorflow/python/framework/indexed_slices.py:434: UserWarning: Converting sparse IndexedSlices to a dense Tensor of unknown shape. This may consume a large amount of memory.\n",
            "  \"Converting sparse IndexedSlices to a dense Tensor of unknown shape. \"\n"
          ],
          "name": "stderr"
        },
        {
          "output_type": "stream",
          "text": [
            "Train on 1556 samples, validate on 389 samples\n",
            "Epoch 1/5\n",
            "1556/1556 [==============================] - 901s 579ms/step - loss: 0.6824 - accuracy: 0.5662 - val_loss: 0.6436 - val_accuracy: 0.6915\n",
            "Epoch 2/5\n",
            "1556/1556 [==============================] - 903s 580ms/step - loss: 0.5824 - accuracy: 0.7699 - val_loss: 0.5531 - val_accuracy: 0.7378\n",
            "Epoch 3/5\n",
            "1556/1556 [==============================] - 908s 583ms/step - loss: 0.4089 - accuracy: 0.8438 - val_loss: 0.5395 - val_accuracy: 0.7147\n",
            "Epoch 4/5\n",
            "1556/1556 [==============================] - 910s 585ms/step - loss: 0.2787 - accuracy: 0.9062 - val_loss: 0.5568 - val_accuracy: 0.8046\n",
            "Epoch 5/5\n",
            "1556/1556 [==============================] - 910s 585ms/step - loss: 0.1640 - accuracy: 0.9447 - val_loss: 0.5615 - val_accuracy: 0.7789\n"
          ],
          "name": "stdout"
        }
      ]
    },
    {
      "cell_type": "code",
      "metadata": {
        "colab_type": "code",
        "id": "hjCzkBrWvsoq",
        "colab": {}
      },
      "source": [
        "from keras.layers import Embedding, Flatten"
      ],
      "execution_count": 12,
      "outputs": []
    },
    {
      "cell_type": "code",
      "metadata": {
        "colab_type": "code",
        "id": "12QwAyNUvso9",
        "colab": {
          "base_uri": "https://localhost:8080/",
          "height": 34
        },
        "outputId": "4b16089a-234c-4fca-c3d8-50d0404e4945"
      },
      "source": [
        "print(accuracy_val.history.keys())"
      ],
      "execution_count": 13,
      "outputs": [
        {
          "output_type": "stream",
          "text": [
            "dict_keys(['val_loss', 'val_accuracy', 'loss', 'accuracy'])\n"
          ],
          "name": "stdout"
        }
      ]
    },
    {
      "cell_type": "code",
      "metadata": {
        "colab_type": "code",
        "id": "_8deHX91vspH",
        "colab": {}
      },
      "source": [
        "import matplotlib.pyplot as plt"
      ],
      "execution_count": 14,
      "outputs": []
    },
    {
      "cell_type": "code",
      "metadata": {
        "colab_type": "code",
        "id": "9OA58E4yvspb",
        "colab": {
          "base_uri": "https://localhost:8080/",
          "height": 295
        },
        "outputId": "6c290f61-3161-4344-cb52-69e2807df012"
      },
      "source": [
        "plt.plot(accuracy_val.history['loss'])\n",
        "plt.plot(accuracy_val.history['val_loss'])\n",
        "plt.title('Loss Plot')\n",
        "plt.ylabel('Loss')\n",
        "plt.xlabel('Epoch')\n",
        "plt.legend(['train', 'validation'], loc='upper left')\n",
        "plt.show()"
      ],
      "execution_count": 15,
      "outputs": [
        {
          "output_type": "display_data",
          "data": {
            "image/png": "[encoded data removed]",
            "text/plain": [
              "<Figure size 432x288 with 1 Axes>"
            ]
          },
          "metadata": {
            "tags": [],
            "needs_background": "light"
          }
        }
      ]
    },
    {
      "cell_type": "code",
      "metadata": {
        "colab_type": "code",
        "id": "GPgL_2g7vspj",
        "colab": {
          "base_uri": "https://localhost:8080/",
          "height": 295
        },
        "outputId": "1498048d-4880-4fc4-a4fb-3ac24008f4ae"
      },
      "source": [
        "plt.plot(accuracy_val.history['accuracy'])\n",
        "plt.plot(accuracy_val.history['val_accuracy'])\n",
        "plt.plot(accuracy_val.history['loss'])\n",
        "plt.plot(accuracy_val.history['val_loss'])\n",
        "plt.title('Loss Accuracy')\n",
        "plt.ylabel('accuracy')\n",
        "plt.xlabel('epoch')\n",
        "plt.legend(['accuracy', 'validation accuracy','loss','val_loss'], loc='upper right')\n",
        "plt.show()"
      ],
      "execution_count": 16,
      "outputs": [
        {
          "output_type": "display_data",
          "data": {
            "image/png": "[encoded data removed]",
            "text/plain": [
              "<Figure size 432x288 with 1 Axes>"
            ]
          },
          "metadata": {
            "tags": [],
            "needs_background": "light"
          }
        }
      ]
    },
    {
      "cell_type": "code",
      "metadata": {
        "colab_type": "code",
        "id": "tj0NTv4Hvspp",
        "colab": {
          "base_uri": "https://localhost:8080/",
          "height": 207
        },
        "outputId": "91b96777-d948-4b9c-b98c-2718e7f5df8c"
      },
      "source": [
        "# Using Early Stopping to hadle Overfitting\n",
        "\n",
        "from keras.callbacks import EarlyStopping\n",
        "\n",
        "model = Sequential()\n",
        "model.add(Embedding(max_features, embed_dim,input_length = X.shape[1]))\n",
        "model.add(LSTM(lstm_out, dropout=0.2, recurrent_dropout=0.2))\n",
        "model.add(Dense(2,activation='softmax'))\n",
        "model.compile(loss = 'categorical_crossentropy', optimizer='adam',metrics = ['accuracy'])\n",
        "es = EarlyStopping(monitor='val_loss', mode='min', verbose=1)\n",
        "accuracy_val_early_stop = model.fit(X_train, y_train, epochs=10, batch_size=128, validation_data=(X_test,y_test), callbacks=[es])"
      ],
      "execution_count": 19,
      "outputs": [
        {
          "output_type": "stream",
          "text": [
            "/usr/local/lib/python3.6/dist-packages/tensorflow/python/framework/indexed_slices.py:434: UserWarning: Converting sparse IndexedSlices to a dense Tensor of unknown shape. This may consume a large amount of memory.\n",
            "  \"Converting sparse IndexedSlices to a dense Tensor of unknown shape. \"\n"
          ],
          "name": "stderr"
        },
        {
          "output_type": "stream",
          "text": [
            "Train on 1556 samples, validate on 389 samples\n",
            "Epoch 1/10\n",
            "1556/1556 [==============================] - 751s 483ms/step - loss: 0.6885 - accuracy: 0.5540 - val_loss: 0.6720 - val_accuracy: 0.6607\n",
            "Epoch 2/10\n",
            "1556/1556 [==============================] - 760s 488ms/step - loss: 0.6062 - accuracy: 0.7494 - val_loss: 0.5582 - val_accuracy: 0.7172\n",
            "Epoch 3/10\n",
            "1556/1556 [==============================] - 746s 480ms/step - loss: 0.5203 - accuracy: 0.7988 - val_loss: 0.5631 - val_accuracy: 0.7069\n",
            "Epoch 00003: early stopping\n"
          ],
          "name": "stdout"
        }
      ]
    },
    {
      "cell_type": "code",
      "metadata": {
        "id": "HOqnhZrog-Ts",
        "colab_type": "code",
        "colab": {
          "base_uri": "https://localhost:8080/",
          "height": 295
        },
        "outputId": "e2312f2b-ebbb-4836-93eb-6b88577af89f"
      },
      "source": [
        "plt.plot(accuracy_val.history['loss'])\n",
        "plt.plot(accuracy_val.history['val_loss'])\n",
        "plt.title('Loss Plot')\n",
        "plt.ylabel('Loss')\n",
        "plt.xlabel('Epoch')\n",
        "plt.legend(['train', 'validation'], loc='upper left')\n",
        "plt.show()"
      ],
      "execution_count": 20,
      "outputs": [
        {
          "output_type": "display_data",
          "data": {
            "image/png": "[encoded data removed]",
            "text/plain": [
              "<Figure size 432x288 with 1 Axes>"
            ]
          },
          "metadata": {
            "tags": [],
            "needs_background": "light"
          }
        }
      ]
    },
    {
      "cell_type": "code",
      "metadata": {
        "id": "kHyt4HfLg_e6",
        "colab_type": "code",
        "colab": {
          "base_uri": "https://localhost:8080/",
          "height": 295
        },
        "outputId": "481a13e8-a199-4335-f27e-87d5e0395979"
      },
      "source": [
        "plt.plot(accuracy_val.history['accuracy'])\n",
        "plt.plot(accuracy_val.history['val_accuracy'])\n",
        "plt.plot(accuracy_val.history['loss'])\n",
        "plt.plot(accuracy_val.history['val_loss'])\n",
        "plt.title('Loss Accuracy')\n",
        "plt.ylabel('accuracy')\n",
        "plt.xlabel('epoch')\n",
        "plt.legend(['accuracy', 'validation accuracy','loss','val_loss'], loc='upper right')\n",
        "plt.show()"
      ],
      "execution_count": 21,
      "outputs": [
        {
          "output_type": "display_data",
          "data": {
            "image/png": "[encoded data removed]",
            "text/plain": [
              "<Figure size 432x288 with 1 Axes>"
            ]
          },
          "metadata": {
            "tags": [],
            "needs_background": "light"
          }
        }
      ]
    }
  ]
}