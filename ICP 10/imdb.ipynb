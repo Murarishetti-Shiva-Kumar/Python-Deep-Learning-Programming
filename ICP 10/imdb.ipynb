{
 "cells": [
  {
   "cell_type": "code",
   "execution_count": 1,
   "metadata": {},
   "outputs": [],
   "source": [
    "#Importing required packages\n",
    "\n",
    "import pandas as pd\n",
    "import numpy as np\n",
    "\n",
    "import matplotlib.pyplot as plt\n",
    "\n",
    "from sklearn import preprocessing\n",
    "from sklearn.model_selection import train_test_split\n",
    "\n",
    "from keras.models import Sequential\n",
    "from keras import layers\n",
    "from keras.preprocessing.text import Tokenizer"
   ]
  },
  {
   "cell_type": "code",
   "execution_count": 2,
   "metadata": {},
   "outputs": [
    {
     "name": "stdout",
     "output_type": "stream",
     "text": [
      "   Unnamed: 0  type                                             review label  \\\n",
      "0           0  test  Once again Mr. Costner has dragged out a movie...   neg   \n",
      "1           1  test  This is an example of why the majority of acti...   neg   \n",
      "2           2  test  First of all I hate those moronic rappers, who...   neg   \n",
      "3           3  test  Not even the Beatles could write songs everyon...   neg   \n",
      "4           4  test  Brass pictures (movies is not a fitting word f...   neg   \n",
      "\n",
      "          file  \n",
      "0      0_2.txt  \n",
      "1  10000_4.txt  \n",
      "2  10001_1.txt  \n",
      "3  10002_3.txt  \n",
      "4  10003_3.txt  \n"
     ]
    }
   ],
   "source": [
    "#Loading dataset into dataframe\n",
    "df = pd.read_csv('imdb_master.csv',encoding='latin-1')\n",
    "print(df.head())\n",
    "\n",
    "#reviews are taken to tokenize\n",
    "sentences = df['review'].values\n",
    "\n",
    "#label column for the prediction(has 3 classifiers neg,pos,unsup)\n",
    "y = df['label'].values"
   ]
  },
  {
   "cell_type": "markdown",
   "metadata": {},
   "source": [
    "## In the code provided, there are three mistake which stop the code to get run successfully; find those mistakes and explain why they need to be corrected to be able to get the code run"
   ]
  },
  {
   "cell_type": "code",
   "execution_count": 3,
   "metadata": {},
   "outputs": [],
   "source": [
    "#tokenizing data\n",
    "tokenizer = Tokenizer(num_words=2000)\n",
    "tokenizer.fit_on_texts(sentences)\n",
    "#getting the vocabulary of data\n",
    "sentences = tokenizer.texts_to_matrix(sentences)"
   ]
  },
  {
   "cell_type": "code",
   "execution_count": 4,
   "metadata": {},
   "outputs": [],
   "source": [
    "#converting Categorical to Numerical using Label Encoding\n",
    "le = preprocessing.LabelEncoder()\n",
    "y = le.fit_transform(y)#applying label encoding on label matrix\n",
    "\n",
    "#dividing data into train& test(75 & 25)\n",
    "X_train, X_test, y_train, y_test = train_test_split(sentences, y, test_size=0.25, random_state=1000)"
   ]
  },
  {
   "cell_type": "code",
   "execution_count": 5,
   "metadata": {},
   "outputs": [
    {
     "data": {
      "text/plain": [
       "(75000, 2000)"
      ]
     },
     "execution_count": 5,
     "metadata": {},
     "output_type": "execute_result"
    }
   ],
   "source": [
    "#Shape of the X_train Matrix\n",
    "X_train.shape[0:]"
   ]
  },
  {
   "cell_type": "markdown",
   "metadata": {},
   "source": [
    "As the dimension of the X_train is 2000, we are taking 2000 as input layer neurons. The network runs for 75000 times, one for each run.\n",
    "\n",
    "As the label Matrix has 3classifiers(neg,pos,unsup)we have taken 3neurons for output layer.\n",
    "\n",
    "We use Softmax as Activation for output layer in Multi-Class Classifier"
   ]
  },
  {
   "cell_type": "code",
   "execution_count": 6,
   "metadata": {},
   "outputs": [
    {
     "name": "stdout",
     "output_type": "stream",
     "text": [
      "Epoch 1/5\n",
      "293/293 [==============================] - 6s 21ms/step - loss: 0.8808 - acc: 0.5064 - val_loss: 0.8483 - val_acc: 0.5096\n",
      "Epoch 2/5\n",
      "293/293 [==============================] - 5s 19ms/step - loss: 0.7922 - acc: 0.5747 - val_loss: 0.8392 - val_acc: 0.5164\n",
      "Epoch 3/5\n",
      "293/293 [==============================] - 7s 22ms/step - loss: 0.6905 - acc: 0.6765 - val_loss: 0.8693 - val_acc: 0.5166\n",
      "Epoch 4/5\n",
      "293/293 [==============================] - 7s 24ms/step - loss: 0.5042 - acc: 0.8113 - val_loss: 0.9523 - val_acc: 0.5099\n",
      "Epoch 5/5\n",
      "293/293 [==============================] - 5s 19ms/step - loss: 0.2974 - acc: 0.9202 - val_loss: 1.0645 - val_acc: 0.5060\n"
     ]
    }
   ],
   "source": [
    "# Number of features\n",
    "# print(input_dim)\n",
    "model = Sequential() #Sequential Neural Network\n",
    "model.add(layers.Dense(300,input_dim=2000, activation='relu'))#hidden layer with 300neurons, input layer with 2000 Neurons\n",
    "model.add(layers.Dense(3, activation='softmax'))#Output layer with 3neurons, softmax as activation\n",
    "model.compile(loss='sparse_categorical_crossentropy',optimizer='adam',metrics=['acc'])\n",
    "history=model.fit(X_train,y_train, epochs=5, verbose=True, validation_data=(X_test,y_test), batch_size=256)"
   ]
  },
  {
   "cell_type": "code",
   "execution_count": 7,
   "metadata": {},
   "outputs": [
    {
     "name": "stdout",
     "output_type": "stream",
     "text": [
      "782/782 [==============================] - 2s 3ms/step - loss: 1.0645 - acc: 0.5060\n",
      "Evaluation result on Test Data : Loss = 1.0644787549972534, accuracy = 0.5059599876403809\n"
     ]
    }
   ],
   "source": [
    "#Calculating loss & accuracy\n",
    "[test_loss, test_acc] = model.evaluate(X_test,y_test)\n",
    "print(\"Evaluation result on Test Data : Loss = {}, accuracy = {}\".format(test_loss, test_acc))"
   ]
  },
  {
   "cell_type": "code",
   "execution_count": 8,
   "metadata": {},
   "outputs": [
    {
     "name": "stdout",
     "output_type": "stream",
     "text": [
      "dict_keys(['loss', 'acc', 'val_loss', 'val_acc'])\n"
     ]
    }
   ],
   "source": [
    "print(history.history.keys())"
   ]
  },
  {
   "cell_type": "markdown",
   "metadata": {},
   "source": [
    "## Plot the loss and accuracy using history object"
   ]
  },
  {
   "cell_type": "code",
   "execution_count": 9,
   "metadata": {},
   "outputs": [
    {
     "data": {
      "image/png": "[encoded data removed]",
      "text/plain": [
       "<Figure size 432x288 with 1 Axes>"
      ]
     },
     "metadata": {
      "needs_background": "light"
     },
     "output_type": "display_data"
    }
   ],
   "source": [
    "plt.plot(history.history['acc'])\n",
    "plt.plot(history.history['val_acc'])\n",
    "plt.plot(history.history['loss'])\n",
    "plt.plot(history.history['val_loss'])\n",
    "plt.title('model accuracy')\n",
    "plt.ylabel('accuracy')\n",
    "plt.xlabel('epoch')\n",
    "plt.legend(['accuracy', 'validation accuracy','loss','validation loss'], loc='upper left')\n",
    "plt.show()"
   ]
  },
  {
   "cell_type": "markdown",
   "metadata": {},
   "source": [
    "## Add embedding layer to the model, did you experience any improvement?"
   ]
  },
  {
   "cell_type": "code",
   "execution_count": 10,
   "metadata": {},
   "outputs": [],
   "source": [
    "pureSentences=df['review']"
   ]
  },
  {
   "cell_type": "code",
   "execution_count": 11,
   "metadata": {},
   "outputs": [
    {
     "name": "stdout",
     "output_type": "stream",
     "text": [
      "vocab_size: 176408\n",
      "max_review_len: 2470\n"
     ]
    }
   ],
   "source": [
    "#Importing package for padding data\n",
    "from keras.preprocessing.sequence import pad_sequences\n",
    "\n",
    "max_review_len= max([len(s.split()) for s in pureSentences]) #length of max reviews\n",
    "vocab_size= len(tokenizer.word_index)+1 #Size of the vocabulary\n",
    "sentencesPre = tokenizer.texts_to_sequences(pureSentences) #Vector Tokenization on the sentence\n",
    "padded_docs= pad_sequences(sentencesPre,maxlen=max_review_len) #Padding based on the max length\n",
    "\n",
    "#converting Categorical to Numerical using Label Encoding\n",
    "le = preprocessing.LabelEncoder()\n",
    "y = le.fit_transform(y)#applying label encoding on label matrix\n",
    "\n",
    "#dividing data into train& test(75 & 25)\n",
    "X_train, X_test, y_train, y_test = train_test_split(padded_docs, y, test_size=0.25, random_state=1000)\n",
    "\n",
    "print(\"vocab_size:\",vocab_size)\n",
    "print(\"max_review_len:\",max_review_len)"
   ]
  },
  {
   "cell_type": "markdown",
   "metadata": {},
   "source": [
    "As the length for maximum of the reviews is 2470, we are taking 2470 as input neurons for input layer and Embedded layer. The network runs for 176408 times, one for each run.\n",
    "\n",
    "As the label Matrix has 3classifiers(neg,pos,unsup)we have taken 3neurons for output layer.\n",
    "\n",
    "We use Softmax as Activation for output layer in Multi-Class Classifier"
   ]
  },
  {
   "cell_type": "code",
   "execution_count": 12,
   "metadata": {},
   "outputs": [
    {
     "name": "stdout",
     "output_type": "stream",
     "text": [
      "Epoch 1/5\n",
      "293/293 [==============================] - 414s 1s/step - loss: 1.0203 - acc: 0.4913 - val_loss: 0.8665 - val_acc: 0.5004\n",
      "Epoch 2/5\n",
      "293/293 [==============================] - 426s 1s/step - loss: 0.8361 - acc: 0.5322 - val_loss: 0.8505 - val_acc: 0.4975\n",
      "Epoch 3/5\n",
      "293/293 [==============================] - 377s 1s/step - loss: 0.7586 - acc: 0.6069 - val_loss: 0.8633 - val_acc: 0.4974\n",
      "Epoch 4/5\n",
      "293/293 [==============================] - 375s 1s/step - loss: 0.6392 - acc: 0.6998 - val_loss: 0.9511 - val_acc: 0.4858\n",
      "Epoch 5/5\n",
      "293/293 [==============================] - 375s 1s/step - loss: 0.4908 - acc: 0.7922 - val_loss: 1.1305 - val_acc: 0.4818\n"
     ]
    }
   ],
   "source": [
    "from keras.layers import Embedding, Flatten\n",
    "\n",
    "model = Sequential()#Sequential Neural Network model\n",
    "model.add(Embedding(vocab_size, 50, input_length=2470))#Embedding layer with 2470 neurons\n",
    "model.add(Flatten())#Flattening the Network\n",
    "model.add(layers.Dense(300, activation='relu',input_dim=2470))#hidden layer with 300neurons, input layer with 2470 Neurons\n",
    "model.add(layers.Dense(3, activation='softmax'))#Output layer with 3neurons, softmax as activation\n",
    "model.compile(loss='sparse_categorical_crossentropy',optimizer='adam',metrics=['acc'])\n",
    "history=model.fit(X_train,y_train, epochs=5, verbose=True, validation_data=(X_test,y_test), batch_size=256)"
   ]
  },
  {
   "cell_type": "code",
   "execution_count": 13,
   "metadata": {},
   "outputs": [
    {
     "name": "stdout",
     "output_type": "stream",
     "text": [
      "dict_keys(['loss', 'acc', 'val_loss', 'val_acc'])\n"
     ]
    }
   ],
   "source": [
    "print(history.history.keys())"
   ]
  },
  {
   "cell_type": "code",
   "execution_count": 14,
   "metadata": {},
   "outputs": [
    {
     "name": "stdout",
     "output_type": "stream",
     "text": [
      "782/782 [==============================] - 46s 59ms/step - loss: 1.1305 - acc: 0.4818\n",
      "Evaluation result on Test Data with Embedded layer: Loss = 1.130493402481079, accuracy = 0.48184001445770264\n"
     ]
    }
   ],
   "source": [
    "#Calculating loss & accuracy\n",
    "[test_loss1, test_acc1] = model.evaluate(X_test,y_test)\n",
    "print(\"Evaluation result on Test Data with Embedded layer: Loss = {}, accuracy = {}\".format(test_loss1, test_acc1))"
   ]
  },
  {
   "cell_type": "markdown",
   "metadata": {},
   "source": [
    "## Plot the loss and accuracy using history object"
   ]
  },
  {
   "cell_type": "code",
   "execution_count": 15,
   "metadata": {},
   "outputs": [
    {
     "data": {
      "image/png": "[encoded data removed]",
      "text/plain": [
       "<Figure size 432x288 with 1 Axes>"
      ]
     },
     "metadata": {
      "needs_background": "light"
     },
     "output_type": "display_data"
    }
   ],
   "source": [
    "plt.plot(history.history['acc'])\n",
    "plt.plot(history.history['val_acc'])\n",
    "plt.plot(history.history['loss'])\n",
    "plt.plot(history.history['val_loss'])\n",
    "plt.title('model accuracy')\n",
    "plt.ylabel('accuracy')\n",
    "plt.xlabel('epoch')\n",
    "plt.legend(['accuracy', 'validation accuracy','loss','validation loss'], loc='upper left')\n",
    "plt.show()"
   ]
  },
  {
   "cell_type": "markdown",
   "metadata": {},
   "source": [
    "## did you experience any improvement?"
   ]
  },
  {
   "cell_type": "code",
   "execution_count": 16,
   "metadata": {},
   "outputs": [
    {
     "name": "stdout",
     "output_type": "stream",
     "text": [
      "Evaluation result on Test Data : Loss = 1.0644787549972534, accuracy = 0.5059599876403809\n",
      "Evaluation result on Test Data with Embedded layer: Loss = 1.130493402481079, accuracy = 0.48184001445770264\n"
     ]
    }
   ],
   "source": [
    "print(\"Evaluation result on Test Data : Loss = {}, accuracy = {}\".format(test_loss, test_acc))\n",
    "print(\"Evaluation result on Test Data with Embedded layer: Loss = {}, accuracy = {}\".format(test_loss1, test_acc1))"
   ]
  },
  {
   "cell_type": "markdown",
   "metadata": {},
   "source": [
    "## Predict over one sample of data and check what will be the prediction for that"
   ]
  },
  {
   "cell_type": "code",
   "execution_count": 19,
   "metadata": {},
   "outputs": [
    {
     "name": "stdout",
     "output_type": "stream",
     "text": [
      "Actual Value: 1 Predicted Value [1]\n"
     ]
    }
   ],
   "source": [
    "print(\"Actual Value:\",y_test[7],\"Predicted Value\",model.predict_classes(X_test[[7],:]))"
   ]
  }
 ],
 "metadata": {
  "kernelspec": {
   "display_name": "Python 3",
   "language": "python",
   "name": "python3"
  },
  "language_info": {
   "codemirror_mode": {
    "name": "ipython",
    "version": 3
   },
   "file_extension": ".py",
   "mimetype": "text/x-python",
   "name": "python",
   "nbconvert_exporter": "python",
   "pygments_lexer": "ipython3",
   "version": "3.7.6"
  }
 },
 "nbformat": 4,
 "nbformat_minor": 4
}
