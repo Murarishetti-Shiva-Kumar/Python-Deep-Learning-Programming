{
 "cells": [
  {
   "cell_type": "code",
   "execution_count": 1,
   "metadata": {},
   "outputs": [],
   "source": [
    "#importing required packages for downloading Data Set\n",
    "from sklearn.datasets import fetch_20newsgroups\n",
    "from sklearn.feature_extraction.text import CountVectorizer, TfidfVectorizer\n",
    "from sklearn.feature_extraction.text import TfidfTransformer\n",
    "from sklearn import metrics\n",
    "from sklearn.pipeline import Pipeline"
   ]
  },
  {
   "cell_type": "code",
   "execution_count": 2,
   "metadata": {},
   "outputs": [],
   "source": [
    "#Training Data Set\n",
    "twenty_train = fetch_20newsgroups(subset='train', shuffle=True)"
   ]
  },
  {
   "cell_type": "code",
   "execution_count": 3,
   "metadata": {},
   "outputs": [],
   "source": [
    "#Applying TfidfVectorizer\n",
    "tfidf_Vect = TfidfVectorizer()\n",
    "X_train_tfidf = tfidf_Vect.fit_transform(twenty_train.data)\n",
    "# print(tfidf_Vect.vocabulary_)"
   ]
  },
  {
   "cell_type": "code",
   "execution_count": 4,
   "metadata": {},
   "outputs": [],
   "source": [
    "#importing Multinomial Naive Bayes\n",
    "from sklearn.naive_bayes import MultinomialNB"
   ]
  },
  {
   "cell_type": "code",
   "execution_count": 5,
   "metadata": {},
   "outputs": [
    {
     "data": {
      "text/plain": [
       "MultinomialNB(alpha=1.0, class_prior=None, fit_prior=True)"
      ]
     },
     "execution_count": 5,
     "metadata": {},
     "output_type": "execute_result"
    }
   ],
   "source": [
    "#Training Data with Multinomial Naive Bayes\n",
    "clf = MultinomialNB()\n",
    "clf.fit(X_train_tfidf, twenty_train.target)"
   ]
  },
  {
   "cell_type": "code",
   "execution_count": 6,
   "metadata": {},
   "outputs": [],
   "source": [
    "#Test Data Set\n",
    "twenty_test = fetch_20newsgroups(subset='test', shuffle=True)\n",
    "X_test_tfidf = tfidf_Vect.transform(twenty_test.data)"
   ]
  },
  {
   "cell_type": "code",
   "execution_count": 7,
   "metadata": {},
   "outputs": [
    {
     "data": {
      "text/plain": [
       "0.7738980350504514"
      ]
     },
     "execution_count": 7,
     "metadata": {},
     "output_type": "execute_result"
    }
   ],
   "source": [
    "#Prediction on the Test Data Set\n",
    "MultinomialNB_predicted = clf.predict(X_test_tfidf)\n",
    "\n",
    "#Calculating Accuracy score for the Multinomial Naive Bayes\n",
    "MultinomialNB_score = metrics.accuracy_score(twenty_test.target, MultinomialNB_predicted)\n",
    "MultinomialNB_score"
   ]
  },
  {
   "cell_type": "markdown",
   "metadata": {},
   "source": [
    "## SVM and see how accuracy changes"
   ]
  },
  {
   "cell_type": "code",
   "execution_count": 8,
   "metadata": {},
   "outputs": [],
   "source": [
    "#Imorting packages for SVC\n",
    "from sklearn.svm import SVC"
   ]
  },
  {
   "cell_type": "code",
   "execution_count": 9,
   "metadata": {},
   "outputs": [
    {
     "data": {
      "text/plain": [
       "SVC(C=1.0, break_ties=False, cache_size=200, class_weight=None, coef0=0.0,\n",
       "    decision_function_shape='ovr', degree=3, gamma='scale', kernel='rbf',\n",
       "    max_iter=-1, probability=False, random_state=None, shrinking=True,\n",
       "    tol=0.001, verbose=False)"
      ]
     },
     "execution_count": 9,
     "metadata": {},
     "output_type": "execute_result"
    }
   ],
   "source": [
    "#Training the Model with SVC\n",
    "svc=SVC()\n",
    "svc.fit(X_train_tfidf, twenty_train.target)"
   ]
  },
  {
   "cell_type": "code",
   "execution_count": 10,
   "metadata": {},
   "outputs": [
    {
     "data": {
      "text/plain": [
       "0.7738980350504514"
      ]
     },
     "execution_count": 10,
     "metadata": {},
     "output_type": "execute_result"
    }
   ],
   "source": [
    "#Applying Prediction on the Test with SVC\n",
    "svc_predicted = clf.predict(X_test_tfidf)\n",
    "\n",
    "#Calculating Accuracy Score for SVC\n",
    "svc_score = metrics.accuracy_score(twenty_test.target, svc_predicted)\n",
    "svc_score"
   ]
  },
  {
   "cell_type": "markdown",
   "metadata": {},
   "source": [
    "## change the tfidf vectorizer to use bigram and see how the accuracy changes    TfidfVectorizer(ngram_range=(1,2))"
   ]
  },
  {
   "cell_type": "code",
   "execution_count": 11,
   "metadata": {},
   "outputs": [
    {
     "data": {
      "text/plain": [
       "0.8043016463090813"
      ]
     },
     "execution_count": 11,
     "metadata": {},
     "output_type": "execute_result"
    }
   ],
   "source": [
    "# Setting TfidfVectorizer(ngram_range=(1,2))\n",
    "tfidf_Vect_bigram = TfidfVectorizer(ngram_range=(1, 2)) \n",
    "\n",
    "#Training the Data set\n",
    "X_train_tfidf_bigram = tfidf_Vect_bigram.fit_transform(twenty_train.data)\n",
    "X_test_tfidf_bigram = tfidf_Vect_bigram.transform(twenty_test.data)\n",
    "svc.fit(X_train_tfidf_bigram, twenty_train.target)\n",
    "\n",
    "#Predicting Using SVC\n",
    "svc_predicted_bigram = svc.predict(X_test_tfidf_bigram)\n",
    "\n",
    "#Calculating Accuracy score\n",
    "svc_score_bigram = metrics.accuracy_score(twenty_test.target, svc_predicted_bigram)\n",
    "svc_score_bigram"
   ]
  },
  {
   "cell_type": "markdown",
   "metadata": {},
   "source": [
    "## Set argument stop_words='english' and see how accuracy changes"
   ]
  },
  {
   "cell_type": "code",
   "execution_count": 12,
   "metadata": {},
   "outputs": [
    {
     "data": {
      "text/plain": [
       "0.8143919277748274"
      ]
     },
     "execution_count": 12,
     "metadata": {},
     "output_type": "execute_result"
    }
   ],
   "source": [
    "# Setting TfidfVectorizer(ngram_range=(1,2)) & Stopword=english\n",
    "tfidf_Vect_stopwatch = TfidfVectorizer(ngram_range=(1, 2), stop_words='english') \n",
    "\n",
    "#Training the Data set\n",
    "X_train_tfidf_stopwatch = tfidf_Vect_stopwatch.fit_transform(twenty_train.data)\n",
    "X_test_tfidf_stopwatch = tfidf_Vect_stopwatch.transform(twenty_test.data)\n",
    "svc.fit(X_train_tfidf_stopwatch, twenty_train.target)\n",
    "\n",
    "#Predicting Using SVC\n",
    "svc_predicted_bigram_stopword = svc.predict(X_test_tfidf_stopwatch)\n",
    "\n",
    "#Calculating Accuracy score\n",
    "svc_score_bigram_stopword = metrics.accuracy_score(twenty_test.target, svc_predicted_bigram_stopword)\n",
    "svc_score_bigram_stopword"
   ]
  },
  {
   "cell_type": "markdown",
   "metadata": {},
   "source": [
    "## accuracy Score changes"
   ]
  },
  {
   "cell_type": "code",
   "execution_count": 14,
   "metadata": {},
   "outputs": [
    {
     "name": "stdout",
     "output_type": "stream",
     "text": [
      "Multinomial Naive Bayes Accuracy Score 0.7738980350504514\n",
      "SVM Accuracy Score 0.7738980350504514\n",
      "SVM Accuracy Score With bigram 0.8043016463090813\n",
      "SVM Accuracy Score With bigram and Stop Word 0.8143919277748274\n"
     ]
    }
   ],
   "source": [
    "print(\"Multinomial Naive Bayes Accuracy Score\", MultinomialNB_score)\n",
    "print(\"SVM Accuracy Score\", svc_score)\n",
    "print(\"SVM Accuracy Score With bigram\", svc_score_bigram)\n",
    "print(\"SVM Accuracy Score With bigram and Stop Word\", svc_score_bigram_stopword)"
   ]
  },
  {
   "cell_type": "code",
   "execution_count": null,
   "metadata": {},
   "outputs": [],
   "source": []
  }
 ],
 "metadata": {
  "kernelspec": {
   "display_name": "Python 3",
   "language": "python",
   "name": "python3"
  },
  "language_info": {
   "codemirror_mode": {
    "name": "ipython",
    "version": 3
   },
   "file_extension": ".py",
   "mimetype": "text/x-python",
   "name": "python",
   "nbconvert_exporter": "python",
   "pygments_lexer": "ipython3",
   "version": "3.7.6"
  }
 },
 "nbformat": 4,
 "nbformat_minor": 4
}
