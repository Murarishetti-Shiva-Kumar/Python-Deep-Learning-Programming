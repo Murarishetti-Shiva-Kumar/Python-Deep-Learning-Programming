{
 "cells": [
  {
   "cell_type": "code",
   "execution_count": 1,
   "metadata": {},
   "outputs": [],
   "source": [
    "from keras import Sequential\n",
    "from keras.datasets import mnist\n",
    "import numpy as np\n",
    "from keras.layers import Dense\n",
    "from keras.utils import to_categorical"
   ]
  },
  {
   "cell_type": "code",
   "execution_count": 2,
   "metadata": {},
   "outputs": [],
   "source": [
    "(train_images,train_labels),(test_images, test_labels) = mnist.load_data()"
   ]
  },
  {
   "cell_type": "code",
   "execution_count": 3,
   "metadata": {},
   "outputs": [
    {
     "data": {
      "image/png": "[encoded data removed]",
      "text/plain": [
       "<Figure size 432x288 with 1 Axes>"
      ]
     },
     "metadata": {
      "needs_background": "light"
     },
     "output_type": "display_data"
    }
   ],
   "source": [
    "import matplotlib.pyplot as plt\n",
    "\n",
    "#display the first image in the training data\n",
    "plt.imshow(train_images[0,:,:],cmap='gray')\n",
    "plt.title('Ground Truth : {}'.format(train_labels[0]))\n",
    "plt.show()"
   ]
  },
  {
   "cell_type": "code",
   "execution_count": 4,
   "metadata": {},
   "outputs": [
    {
     "data": {
      "text/plain": [
       "(28, 28)"
      ]
     },
     "execution_count": 4,
     "metadata": {},
     "output_type": "execute_result"
    }
   ],
   "source": [
    "train_images.shape[1:]"
   ]
  },
  {
   "cell_type": "code",
   "execution_count": 5,
   "metadata": {},
   "outputs": [
    {
     "name": "stdout",
     "output_type": "stream",
     "text": [
      "784\n"
     ]
    }
   ],
   "source": [
    "#process the data\n",
    "#1. convert each image of shape 28*28 to 784 dimensional which will be fed to the network as a single feature\n",
    "dimData = np.prod(train_images.shape[1:])\n",
    "print(dimData)\n",
    "train_data = train_images.reshape(train_images.shape[0],dimData)\n",
    "test_data = test_images.reshape(test_images.shape[0],dimData)"
   ]
  },
  {
   "cell_type": "code",
   "execution_count": 6,
   "metadata": {},
   "outputs": [],
   "source": [
    "#convert data to float and scale values between 0 and 1\n",
    "train_data = train_data.astype('float')\n",
    "test_data = test_data.astype('float')"
   ]
  },
  {
   "cell_type": "code",
   "execution_count": 7,
   "metadata": {},
   "outputs": [],
   "source": [
    "#scale data\n",
    "train_data /=255.0\n",
    "test_data /=255.0"
   ]
  },
  {
   "cell_type": "code",
   "execution_count": 8,
   "metadata": {},
   "outputs": [],
   "source": [
    "#change the labels frominteger to one-hot encoding. to_categorical is doing the same thing as LabelEncoder()\n",
    "train_labels_one_hot = to_categorical(train_labels)\n",
    "test_labels_one_hot = to_categorical(test_labels)"
   ]
  },
  {
   "cell_type": "code",
   "execution_count": 9,
   "metadata": {},
   "outputs": [],
   "source": [
    "#creating network\n",
    "model = Sequential()\n",
    "model.add(Dense(512, activation='relu', input_shape=(dimData,)))\n",
    "model.add(Dense(512, activation='relu'))\n",
    "model.add(Dense(10, activation='softmax'))"
   ]
  },
  {
   "cell_type": "code",
   "execution_count": 10,
   "metadata": {},
   "outputs": [
    {
     "name": "stdout",
     "output_type": "stream",
     "text": [
      "Epoch 1/10\n",
      "235/235 [==============================] - 8s 34ms/step - loss: 0.2740 - accuracy: 0.9158 - val_loss: 0.1139 - val_accuracy: 0.9638\n",
      "Epoch 2/10\n",
      "235/235 [==============================] - 7s 31ms/step - loss: 0.0942 - accuracy: 0.9707 - val_loss: 0.0784 - val_accuracy: 0.9766\n",
      "Epoch 3/10\n",
      "235/235 [==============================] - 8s 35ms/step - loss: 0.0586 - accuracy: 0.9814 - val_loss: 0.0759 - val_accuracy: 0.9763\n",
      "Epoch 4/10\n",
      "235/235 [==============================] - 8s 36ms/step - loss: 0.0400 - accuracy: 0.9876 - val_loss: 0.0835 - val_accuracy: 0.9770\n",
      "Epoch 5/10\n",
      "235/235 [==============================] - 8s 32ms/step - loss: 0.0287 - accuracy: 0.9909 - val_loss: 0.0867 - val_accuracy: 0.9774\n",
      "Epoch 6/10\n",
      "235/235 [==============================] - 9s 36ms/step - loss: 0.0214 - accuracy: 0.9931 - val_loss: 0.0771 - val_accuracy: 0.9788\n",
      "Epoch 7/10\n",
      "235/235 [==============================] - 8s 35ms/step - loss: 0.0170 - accuracy: 0.9947 - val_loss: 0.1003 - val_accuracy: 0.9760\n",
      "Epoch 8/10\n",
      "235/235 [==============================] - 7s 31ms/step - loss: 0.0135 - accuracy: 0.9953 - val_loss: 0.1181 - val_accuracy: 0.9759\n",
      "Epoch 9/10\n",
      "235/235 [==============================] - 7s 32ms/step - loss: 0.0105 - accuracy: 0.9965 - val_loss: 0.0987 - val_accuracy: 0.9784\n",
      "Epoch 10/10\n",
      "235/235 [==============================] - 7s 30ms/step - loss: 0.0100 - accuracy: 0.9966 - val_loss: 0.0974 - val_accuracy: 0.9809\n"
     ]
    }
   ],
   "source": [
    "model.compile(optimizer='rmsprop', loss='categorical_crossentropy', metrics=['accuracy'])\n",
    "history = model.fit(train_data, train_labels_one_hot, batch_size=256, epochs=10, verbose=1,\n",
    "                   validation_data=(test_data, test_labels_one_hot))"
   ]
  },
  {
   "cell_type": "markdown",
   "metadata": {},
   "source": [
    "### using the history object in the source code, plot the loss and accuracy for both training data and validation data. "
   ]
  },
  {
   "cell_type": "code",
   "execution_count": 11,
   "metadata": {},
   "outputs": [
    {
     "name": "stdout",
     "output_type": "stream",
     "text": [
      "313/313 [==============================] - 1s 4ms/step - loss: 0.0974 - accuracy: 0.9809\n",
      "Evaluation result on Test Data : Loss = 0.09738514572381973, accuracy = 0.98089998960495\n"
     ]
    }
   ],
   "source": [
    "[test_loss, test_acc] = model.evaluate(test_data, test_labels_one_hot)\n",
    "print(\"Evaluation result on Test Data : Loss = {}, accuracy = {}\".format(test_loss, test_acc))"
   ]
  },
  {
   "cell_type": "code",
   "execution_count": 12,
   "metadata": {},
   "outputs": [
    {
     "data": {
      "text/plain": [
       "dict_keys(['loss', 'accuracy', 'val_loss', 'val_accuracy'])"
      ]
     },
     "execution_count": 12,
     "metadata": {},
     "output_type": "execute_result"
    }
   ],
   "source": [
    "history.history.keys()"
   ]
  },
  {
   "cell_type": "code",
   "execution_count": 13,
   "metadata": {},
   "outputs": [
    {
     "data": {
      "image/png": "[encoded data removed]",
      "text/plain": [
       "<Figure size 432x288 with 1 Axes>"
      ]
     },
     "metadata": {
      "needs_background": "light"
     },
     "output_type": "display_data"
    }
   ],
   "source": [
    "plt.plot(history.history['accuracy'])\n",
    "plt.plot(history.history['val_accuracy'])\n",
    "plt.plot(history.history['loss'])\n",
    "plt.plot(history.history['val_loss'])\n",
    "plt.title('model accuracy')\n",
    "plt.ylabel('accuracy')\n",
    "plt.xlabel('epoch')\n",
    "plt.legend(['accuracy', 'val_accuracy','loss','val_loss'], loc='upper left')\n",
    "plt.show()"
   ]
  },
  {
   "cell_type": "markdown",
   "metadata": {},
   "source": [
    "### plot one of the images in the test data, and then do inferencing to check what is the prediction of the model on that single image in the test data"
   ]
  },
  {
   "cell_type": "code",
   "execution_count": 14,
   "metadata": {},
   "outputs": [
    {
     "data": {
      "image/png": "[encoded data removed]",
      "text/plain": [
       "<Figure size 432x288 with 1 Axes>"
      ]
     },
     "metadata": {
      "needs_background": "light"
     },
     "output_type": "display_data"
    }
   ],
   "source": [
    "plt.imshow(test_data[0].reshape(28,28));"
   ]
  },
  {
   "cell_type": "code",
   "execution_count": 15,
   "metadata": {},
   "outputs": [
    {
     "name": "stdout",
     "output_type": "stream",
     "text": [
      "WARNING:tensorflow:From <ipython-input-15-31e4086f5d54>:1: Sequential.predict_classes (from tensorflow.python.keras.engine.sequential) is deprecated and will be removed after 2021-01-01.\n",
      "Instructions for updating:\n",
      "Please use instead:* `np.argmax(model.predict(x), axis=-1)`,   if your model does multi-class classification   (e.g. if it uses a `softmax` last-layer activation).* `(model.predict(x) > 0.5).astype(\"int32\")`,   if your model does binary classification   (e.g. if it uses a `sigmoid` last-layer activation).\n",
      "predicted label: [7]\n"
     ]
    }
   ],
   "source": [
    "print(\"predicted label:\",model.predict_classes(test_data[0].reshape(1,784)))"
   ]
  },
  {
   "cell_type": "markdown",
   "metadata": {},
   "source": [
    "### We had used 2 hidden layers and Relu activation. Try to change the number of hidden layer and the activation to tanh or sigmoid and see what happens"
   ]
  },
  {
   "cell_type": "code",
   "execution_count": 16,
   "metadata": {},
   "outputs": [
    {
     "name": "stdout",
     "output_type": "stream",
     "text": [
      "Epoch 1/10\n",
      "235/235 [==============================] - 12s 52ms/step - loss: 0.3157 - accuracy: 0.9022 - val_loss: 0.2035 - val_accuracy: 0.9392\n",
      "Epoch 2/10\n",
      "235/235 [==============================] - 12s 51ms/step - loss: 0.1055 - accuracy: 0.9680 - val_loss: 0.2257 - val_accuracy: 0.9390\n",
      "Epoch 3/10\n",
      "235/235 [==============================] - 13s 55ms/step - loss: 0.0689 - accuracy: 0.9795 - val_loss: 0.1016 - val_accuracy: 0.9728\n",
      "Epoch 4/10\n",
      "235/235 [==============================] - 14s 58ms/step - loss: 0.0505 - accuracy: 0.9849 - val_loss: 0.0844 - val_accuracy: 0.9763\n",
      "Epoch 5/10\n",
      "235/235 [==============================] - 18s 75ms/step - loss: 0.0402 - accuracy: 0.9880 - val_loss: 0.0775 - val_accuracy: 0.9807\n",
      "Epoch 6/10\n",
      "235/235 [==============================] - 18s 77ms/step - loss: 0.0309 - accuracy: 0.9913 - val_loss: 0.0907 - val_accuracy: 0.9802\n",
      "Epoch 7/10\n",
      "235/235 [==============================] - 16s 68ms/step - loss: 0.0266 - accuracy: 0.9922 - val_loss: 0.1271 - val_accuracy: 0.9776\n",
      "Epoch 8/10\n",
      "235/235 [==============================] - 15s 63ms/step - loss: 0.0260 - accuracy: 0.9927 - val_loss: 0.0919 - val_accuracy: 0.9813\n",
      "Epoch 9/10\n",
      "235/235 [==============================] - 14s 58ms/step - loss: 0.0213 - accuracy: 0.9942 - val_loss: 0.1315 - val_accuracy: 0.9759\n",
      "Epoch 10/10\n",
      "235/235 [==============================] - 13s 56ms/step - loss: 0.0219 - accuracy: 0.9944 - val_loss: 0.1056 - val_accuracy: 0.9811\n",
      "313/313 [==============================] - 3s 8ms/step - loss: 0.1056 - accuracy: 0.9811\n",
      "Evaluation result on Test Data with 4 hidden layers: Loss = 0.10562571883201599, accuracy = 0.9811000227928162\n"
     ]
    }
   ],
   "source": [
    "#increasing the number of hidden layers to 4\n",
    "model = Sequential()\n",
    "model.add(Dense(512, activation='relu', input_shape=(dimData,)))\n",
    "model.add(Dense(512, activation='relu'))\n",
    "model.add(Dense(512, activation='relu'))\n",
    "model.add(Dense(512, activation='relu'))\n",
    "model.add(Dense(10, activation='softmax'))\n",
    "\n",
    "model.compile(optimizer='rmsprop', loss='categorical_crossentropy', metrics=['accuracy'])\n",
    "history = model.fit(train_data, train_labels_one_hot, batch_size=256, epochs=10, verbose=1,\n",
    "                   validation_data=(test_data, test_labels_one_hot))\n",
    "\n",
    "[test_loss1, test_acc1] = model.evaluate(test_data, test_labels_one_hot)\n",
    "print(\"Evaluation result on Test Data with 4 hidden layers: Loss = {}, accuracy = {}\".format(test_loss1, test_acc1))"
   ]
  },
  {
   "cell_type": "code",
   "execution_count": 17,
   "metadata": {},
   "outputs": [
    {
     "name": "stdout",
     "output_type": "stream",
     "text": [
      "Epoch 1/10\n",
      "235/235 [==============================] - 19s 79ms/step - loss: 0.3378 - accuracy: 0.8957 - val_loss: 0.1914 - val_accuracy: 0.9369\n",
      "Epoch 2/10\n",
      "235/235 [==============================] - 19s 81ms/step - loss: 0.1100 - accuracy: 0.9674 - val_loss: 0.1278 - val_accuracy: 0.9623\n",
      "Epoch 3/10\n",
      "235/235 [==============================] - 20s 84ms/step - loss: 0.0698 - accuracy: 0.9789 - val_loss: 0.1131 - val_accuracy: 0.9728\n",
      "Epoch 4/10\n",
      "235/235 [==============================] - 18s 75ms/step - loss: 0.0517 - accuracy: 0.9846 - val_loss: 0.0889 - val_accuracy: 0.9780\n",
      "Epoch 5/10\n",
      "235/235 [==============================] - 21s 90ms/step - loss: 0.0403 - accuracy: 0.9886 - val_loss: 0.1086 - val_accuracy: 0.9725\n",
      "Epoch 6/10\n",
      "235/235 [==============================] - 17s 72ms/step - loss: 0.0351 - accuracy: 0.9902 - val_loss: 0.1325 - val_accuracy: 0.9769\n",
      "Epoch 7/10\n",
      "235/235 [==============================] - 17s 74ms/step - loss: 0.0310 - accuracy: 0.9913 - val_loss: 0.1592 - val_accuracy: 0.9742\n",
      "Epoch 8/10\n",
      "235/235 [==============================] - 18s 77ms/step - loss: 0.0295 - accuracy: 0.9922 - val_loss: 0.1288 - val_accuracy: 0.9780\n",
      "Epoch 9/10\n",
      "235/235 [==============================] - 17s 72ms/step - loss: 0.0250 - accuracy: 0.9938 - val_loss: 0.1485 - val_accuracy: 0.9792\n",
      "Epoch 10/10\n",
      "235/235 [==============================] - 17s 71ms/step - loss: 0.0264 - accuracy: 0.9934 - val_loss: 0.1149 - val_accuracy: 0.9806\n",
      "313/313 [==============================] - 3s 9ms/step - loss: 0.1149 - accuracy: 0.9806\n",
      "Evaluation result on Test Data with increase in dense in hidden layers: Loss = 0.11486254632472992, accuracy = 0.9805999994277954\n"
     ]
    }
   ],
   "source": [
    "#increasing the dense in hidden layers\n",
    "model = Sequential()\n",
    "model.add(Dense(512, activation='relu', input_shape=(dimData,)))\n",
    "model.add(Dense(612, activation='relu'))\n",
    "model.add(Dense(712, activation='relu'))\n",
    "model.add(Dense(812, activation='relu'))\n",
    "model.add(Dense(10, activation='softmax'))\n",
    "\n",
    "model.compile(optimizer='rmsprop', loss='categorical_crossentropy', metrics=['accuracy'])\n",
    "history = model.fit(train_data, train_labels_one_hot, batch_size=256, epochs=10, verbose=1,\n",
    "                   validation_data=(test_data, test_labels_one_hot))\n",
    "\n",
    "[test_loss2, test_acc2] = model.evaluate(test_data, test_labels_one_hot)\n",
    "print(\"Evaluation result on Test Data with increase in dense in hidden layers: Loss = {}, accuracy = {}\".format(test_loss2, test_acc2))"
   ]
  },
  {
   "cell_type": "code",
   "execution_count": 18,
   "metadata": {},
   "outputs": [
    {
     "name": "stdout",
     "output_type": "stream",
     "text": [
      "Epoch 1/10\n",
      "235/235 [==============================] - 17s 71ms/step - loss: 0.6329 - accuracy: 0.8354 - val_loss: 0.2959 - val_accuracy: 0.9094\n",
      "Epoch 2/10\n",
      "235/235 [==============================] - 17s 71ms/step - loss: 0.1906 - accuracy: 0.9424 - val_loss: 0.1647 - val_accuracy: 0.9504\n",
      "Epoch 3/10\n",
      "235/235 [==============================] - 16s 70ms/step - loss: 0.1183 - accuracy: 0.9638 - val_loss: 0.2577 - val_accuracy: 0.9274\n",
      "Epoch 4/10\n",
      "235/235 [==============================] - 17s 71ms/step - loss: 0.0841 - accuracy: 0.9734 - val_loss: 0.1386 - val_accuracy: 0.9610\n",
      "Epoch 5/10\n",
      "235/235 [==============================] - 18s 75ms/step - loss: 0.0619 - accuracy: 0.9804 - val_loss: 0.1089 - val_accuracy: 0.9690\n",
      "Epoch 6/10\n",
      "235/235 [==============================] - 17s 71ms/step - loss: 0.0464 - accuracy: 0.9852 - val_loss: 0.0928 - val_accuracy: 0.9730\n",
      "Epoch 7/10\n",
      "235/235 [==============================] - 17s 71ms/step - loss: 0.0355 - accuracy: 0.9887 - val_loss: 0.0869 - val_accuracy: 0.9764\n",
      "Epoch 8/10\n",
      "235/235 [==============================] - 17s 71ms/step - loss: 0.0290 - accuracy: 0.9905 - val_loss: 0.1023 - val_accuracy: 0.9724\n",
      "Epoch 9/10\n",
      "235/235 [==============================] - 16s 70ms/step - loss: 0.0225 - accuracy: 0.9925 - val_loss: 0.0870 - val_accuracy: 0.9775\n",
      "Epoch 10/10\n",
      "235/235 [==============================] - 17s 70ms/step - loss: 0.0192 - accuracy: 0.9937 - val_loss: 0.1282 - val_accuracy: 0.9697\n",
      "313/313 [==============================] - 3s 9ms/step - loss: 0.1282 - accuracy: 0.9697\n",
      "Evaluation result on Test Data with tanh activation: Loss = 0.12818050384521484, accuracy = 0.9696999788284302\n"
     ]
    }
   ],
   "source": [
    "#All hidden layers with tanh activation\n",
    "model = Sequential()\n",
    "model.add(Dense(512, activation='tanh', input_shape=(dimData,)))\n",
    "model.add(Dense(612, activation='tanh'))\n",
    "model.add(Dense(712, activation='tanh'))\n",
    "model.add(Dense(812, activation='tanh'))\n",
    "model.add(Dense(10, activation='softmax'))\n",
    "\n",
    "model.compile(optimizer='rmsprop', loss='categorical_crossentropy', metrics=['accuracy'])\n",
    "history = model.fit(train_data, train_labels_one_hot, batch_size=256, epochs=10, verbose=1,\n",
    "                   validation_data=(test_data, test_labels_one_hot))\n",
    "\n",
    "[test_loss3, test_acc3] = model.evaluate(test_data, test_labels_one_hot)\n",
    "print(\"Evaluation result on Test Data with tanh activation: Loss = {}, accuracy = {}\".format(test_loss3, test_acc3))"
   ]
  },
  {
   "cell_type": "code",
   "execution_count": 19,
   "metadata": {},
   "outputs": [
    {
     "name": "stdout",
     "output_type": "stream",
     "text": [
      "Epoch 1/10\n",
      "235/235 [==============================] - 19s 79ms/step - loss: 1.2549 - accuracy: 0.5374 - val_loss: 0.6946 - val_accuracy: 0.7548\n",
      "Epoch 2/10\n",
      "235/235 [==============================] - 21s 88ms/step - loss: 0.4456 - accuracy: 0.8587 - val_loss: 0.3358 - val_accuracy: 0.8929\n",
      "Epoch 3/10\n",
      "235/235 [==============================] - 20s 87ms/step - loss: 0.2853 - accuracy: 0.9120 - val_loss: 0.2538 - val_accuracy: 0.9237\n",
      "Epoch 4/10\n",
      "235/235 [==============================] - 17s 74ms/step - loss: 0.2088 - accuracy: 0.9357 - val_loss: 0.2950 - val_accuracy: 0.9078\n",
      "Epoch 5/10\n",
      "235/235 [==============================] - 21s 91ms/step - loss: 0.1659 - accuracy: 0.9488 - val_loss: 0.1528 - val_accuracy: 0.9537\n",
      "Epoch 6/10\n",
      "235/235 [==============================] - 18s 77ms/step - loss: 0.1354 - accuracy: 0.9589 - val_loss: 0.1779 - val_accuracy: 0.9477\n",
      "Epoch 7/10\n",
      "235/235 [==============================] - 21s 91ms/step - loss: 0.1171 - accuracy: 0.9643 - val_loss: 0.1281 - val_accuracy: 0.9622\n",
      "Epoch 8/10\n",
      "235/235 [==============================] - 17s 74ms/step - loss: 0.1005 - accuracy: 0.9689 - val_loss: 0.1278 - val_accuracy: 0.9593\n",
      "Epoch 9/10\n",
      "235/235 [==============================] - 22s 93ms/step - loss: 0.0868 - accuracy: 0.9736 - val_loss: 0.1349 - val_accuracy: 0.9615\n",
      "Epoch 10/10\n",
      "235/235 [==============================] - 20s 87ms/step - loss: 0.0757 - accuracy: 0.9767 - val_loss: 0.1803 - val_accuracy: 0.9506\n",
      "313/313 [==============================] - 3s 10ms/step - loss: 0.1803 - accuracy: 0.9506\n",
      "Evaluation result on Test Data with sigmoid activation: Loss = 0.18028391897678375, accuracy = 0.9506000280380249\n"
     ]
    }
   ],
   "source": [
    "#All hidden layers with sigmoid activation\n",
    "model = Sequential()\n",
    "model.add(Dense(512, activation='sigmoid', input_shape=(dimData,)))\n",
    "model.add(Dense(612, activation='sigmoid'))\n",
    "model.add(Dense(712, activation='sigmoid'))\n",
    "model.add(Dense(812, activation='sigmoid'))\n",
    "model.add(Dense(10, activation='softmax'))\n",
    "\n",
    "model.compile(optimizer='rmsprop', loss='categorical_crossentropy', metrics=['accuracy'])\n",
    "history = model.fit(train_data, train_labels_one_hot, batch_size=256, epochs=10, verbose=1,\n",
    "                   validation_data=(test_data, test_labels_one_hot))\n",
    "\n",
    "[test_loss4, test_acc4] = model.evaluate(test_data, test_labels_one_hot)\n",
    "print(\"Evaluation result on Test Data with sigmoid activation: Loss = {}, accuracy = {}\".format(test_loss4, test_acc4))"
   ]
  },
  {
   "cell_type": "code",
   "execution_count": 20,
   "metadata": {},
   "outputs": [
    {
     "name": "stdout",
     "output_type": "stream",
     "text": [
      "Evaluation result on Test Data with 2 hidden layers: Loss = 0.09738514572381973, accuracy = 0.98089998960495\n",
      "Evaluation result on Test Data with 4 hidden layers: Loss = 0.10562571883201599, accuracy = 0.9811000227928162\n",
      "Evaluation result on Test Data with increase in dense in hidden layers: Loss = 0.11486254632472992, accuracy = 0.9805999994277954\n",
      "Evaluation result on Test Data with tanh activation: Loss = 0.12818050384521484, accuracy = 0.9696999788284302\n",
      "Evaluation result on Test Data with sigmoid activation: Loss = 0.18028391897678375, accuracy = 0.9506000280380249\n"
     ]
    }
   ],
   "source": [
    "print(\"Evaluation result on Test Data with 2 hidden layers: Loss = {}, accuracy = {}\".format(test_loss, test_acc))\n",
    "print(\"Evaluation result on Test Data with 4 hidden layers: Loss = {}, accuracy = {}\".format(test_loss1, test_acc1))\n",
    "print(\"Evaluation result on Test Data with increase in dense in hidden layers: Loss = {}, accuracy = {}\".format(test_loss2, test_acc2))\n",
    "print(\"Evaluation result on Test Data with tanh activation: Loss = {}, accuracy = {}\".format(test_loss3, test_acc3))\n",
    "print(\"Evaluation result on Test Data with sigmoid activation: Loss = {}, accuracy = {}\".format(test_loss4, test_acc4))"
   ]
  },
  {
   "cell_type": "markdown",
   "metadata": {},
   "source": [
    "### Run the same code without scaling the images, how the accuracy changes"
   ]
  },
  {
   "cell_type": "code",
   "execution_count": 21,
   "metadata": {},
   "outputs": [
    {
     "name": "stdout",
     "output_type": "stream",
     "text": [
      "(28, 28)\n",
      "Epoch 1/10\n",
      "235/235 [==============================] - 8s 34ms/step - loss: 4.5541 - accuracy: 0.8833 - val_loss: 1.1596 - val_accuracy: 0.8828\n",
      "Epoch 2/10\n",
      "235/235 [==============================] - 7s 30ms/step - loss: 0.4122 - accuracy: 0.9474 - val_loss: 0.7433 - val_accuracy: 0.8995\n",
      "Epoch 3/10\n",
      "235/235 [==============================] - 8s 34ms/step - loss: 0.2498 - accuracy: 0.9586 - val_loss: 0.2682 - val_accuracy: 0.9549\n",
      "Epoch 4/10\n",
      "235/235 [==============================] - 7s 30ms/step - loss: 0.2087 - accuracy: 0.9659 - val_loss: 0.3024 - val_accuracy: 0.9565\n",
      "Epoch 5/10\n",
      "235/235 [==============================] - 8s 33ms/step - loss: 0.1831 - accuracy: 0.9718 - val_loss: 0.3540 - val_accuracy: 0.9604\n",
      "Epoch 6/10\n",
      "235/235 [==============================] - 9s 37ms/step - loss: 0.1510 - accuracy: 0.9760 - val_loss: 0.3047 - val_accuracy: 0.9655\n",
      "Epoch 7/10\n",
      "235/235 [==============================] - 8s 35ms/step - loss: 0.1376 - accuracy: 0.9784 - val_loss: 0.4001 - val_accuracy: 0.9571\n",
      "Epoch 8/10\n",
      "235/235 [==============================] - 10s 42ms/step - loss: 0.1352 - accuracy: 0.9806 - val_loss: 0.3102 - val_accuracy: 0.9684\n",
      "Epoch 9/10\n",
      "235/235 [==============================] - 9s 39ms/step - loss: 0.1316 - accuracy: 0.9825 - val_loss: 0.3488 - val_accuracy: 0.9717\n",
      "Epoch 10/10\n",
      "235/235 [==============================] - 7s 32ms/step - loss: 0.1246 - accuracy: 0.9844 - val_loss: 0.3964 - val_accuracy: 0.9670\n",
      "313/313 [==============================] - 1s 4ms/step - loss: 0.3964 - accuracy: 0.9670\n",
      "Evaluation result on Test Data without scaling: Loss = 0.39635056257247925, accuracy = 0.9670000076293945\n"
     ]
    }
   ],
   "source": [
    "from keras import Sequential\n",
    "from keras.datasets import mnist\n",
    "import numpy as np\n",
    "from keras.layers import Dense\n",
    "from keras.utils import to_categorical\n",
    "\n",
    "(train_images,train_labels),(test_images, test_labels) = mnist.load_data()\n",
    "\n",
    "print(train_images.shape[1:])\n",
    "#process the data\n",
    "#1. convert each image of shape 28*28 to 784 dimensional which will be fed to the network as a single feature\n",
    "dimData = np.prod(train_images.shape[1:])\n",
    "# print(dimData)\n",
    "train_data = train_images.reshape(train_images.shape[0],dimData)\n",
    "test_data = test_images.reshape(test_images.shape[0],dimData)\n",
    "\n",
    "#convert data to float and scale values between 0 and 1\n",
    "train_data = train_data.astype('float')\n",
    "test_data = test_data.astype('float')\n",
    "#scale data\n",
    "# train_data /=255.0\n",
    "# test_data /=255.0\n",
    "#change the labels frominteger to one-hot encoding. to_categorical is doing the same thing as LabelEncoder()\n",
    "train_labels_one_hot = to_categorical(train_labels)\n",
    "test_labels_one_hot = to_categorical(test_labels)\n",
    "\n",
    "#creating network\n",
    "model = Sequential()\n",
    "model.add(Dense(512, activation='relu', input_shape=(dimData,)))\n",
    "model.add(Dense(512, activation='relu'))\n",
    "model.add(Dense(10, activation='softmax'))\n",
    "\n",
    "model.compile(optimizer='rmsprop', loss='categorical_crossentropy', metrics=['accuracy'])\n",
    "history = model.fit(train_data, train_labels_one_hot, batch_size=256, epochs=10, verbose=1,\n",
    "                   validation_data=(test_data, test_labels_one_hot))\n",
    "\n",
    "[test_loss5, test_acc5] = model.evaluate(test_data, test_labels_one_hot)\n",
    "print(\"Evaluation result on Test Data without scaling: Loss = {}, accuracy = {}\".format(test_loss5, test_acc5))"
   ]
  },
  {
   "cell_type": "code",
   "execution_count": 22,
   "metadata": {},
   "outputs": [
    {
     "name": "stdout",
     "output_type": "stream",
     "text": [
      "Evaluation result on Test Data with 2 hidden layers: Loss = 0.09738514572381973, accuracy = 0.98089998960495\n",
      "Evaluation result on Test Data with 4 hidden layers: Loss = 0.10562571883201599, accuracy = 0.9811000227928162\n",
      "Evaluation result on Test Data with increase in dense in hidden layers: Loss = 0.11486254632472992, accuracy = 0.9805999994277954\n",
      "Evaluation result on Test Data with tanh activation: Loss = 0.12818050384521484, accuracy = 0.9696999788284302\n",
      "Evaluation result on Test Data with sigmoid activation: Loss = 0.18028391897678375, accuracy = 0.9506000280380249\n",
      "Evaluation result on Test Data without scaling: Loss = 0.39635056257247925, accuracy = 0.9670000076293945\n"
     ]
    }
   ],
   "source": [
    "print(\"Evaluation result on Test Data with 2 hidden layers: Loss = {}, accuracy = {}\".format(test_loss, test_acc))\n",
    "print(\"Evaluation result on Test Data with 4 hidden layers: Loss = {}, accuracy = {}\".format(test_loss1, test_acc1))\n",
    "print(\"Evaluation result on Test Data with increase in dense in hidden layers: Loss = {}, accuracy = {}\".format(test_loss2, test_acc2))\n",
    "print(\"Evaluation result on Test Data with tanh activation: Loss = {}, accuracy = {}\".format(test_loss3, test_acc3))\n",
    "print(\"Evaluation result on Test Data with sigmoid activation: Loss = {}, accuracy = {}\".format(test_loss4, test_acc4))\n",
    "print(\"Evaluation result on Test Data without scaling: Loss = {}, accuracy = {}\".format(test_loss5, test_acc5))"
   ]
  },
  {
   "cell_type": "code",
   "execution_count": null,
   "metadata": {},
   "outputs": [],
   "source": []
  }
 ],
 "metadata": {
  "kernelspec": {
   "display_name": "Python 3",
   "language": "python",
   "name": "python3"
  },
  "language_info": {
   "codemirror_mode": {
    "name": "ipython",
    "version": 3
   },
   "file_extension": ".py",
   "mimetype": "text/x-python",
   "name": "python",
   "nbconvert_exporter": "python",
   "pygments_lexer": "ipython3",
   "version": "3.7.6"
  }
 },
 "nbformat": 4,
 "nbformat_minor": 4
}
